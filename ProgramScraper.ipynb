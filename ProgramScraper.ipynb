{
 "cells": [
  {
   "cell_type": "code",
   "execution_count": 2,
   "metadata": {},
   "outputs": [],
   "source": [
    "from bs4 import BeautifulSoup\n",
    "from tqdm import tqdm\n",
    "import pandas as pd\n",
    "import requests\n",
    "import os"
   ]
  },
  {
   "cell_type": "code",
   "execution_count": 11,
   "metadata": {},
   "outputs": [],
   "source": [
    "url = \"https://catalog.furman.edu/content.php?catoid=27&navoid=1462\"\n",
    "response = requests.get(url)\n",
    "content = response.text\n",
    "soup = BeautifulSoup(content, \"html.parser\")"
   ]
  },
  {
   "cell_type": "code",
   "execution_count": 12,
   "metadata": {},
   "outputs": [],
   "source": [
    "headings = soup.find_all(\"h2\")"
   ]
  },
  {
   "cell_type": "code",
   "execution_count": 16,
   "metadata": {},
   "outputs": [],
   "source": [
    "programs = [heading.text.strip() for heading in headings]"
   ]
  },
  {
   "cell_type": "code",
   "execution_count": 19,
   "metadata": {},
   "outputs": [],
   "source": [
    "major_lists = soup.find_all(\"ul\", class_=\"program-list\")"
   ]
  },
  {
   "cell_type": "code",
   "execution_count": 27,
   "metadata": {},
   "outputs": [],
   "source": [
    "program_results = []\n",
    "\n",
    "a_list = major_lists\n",
    "for a_list in major_lists:\n",
    "    programs = a_list.find_all(\"a\")\n",
    "    for program in programs:\n",
    "        program_name = program.text.strip()\n",
    "        program_url = \"https://catalog.furman.edu/\" + program['href']\n",
    "        program_results.append({\n",
    "            \"name\": program_name,\n",
    "            \"url\": program_url\n",
    "        })"
   ]
  },
  {
   "cell_type": "code",
   "execution_count": 31,
   "metadata": {},
   "outputs": [],
   "source": [
    "# for p in program_results\n",
    "p = program_results[0]\n",
    "\n",
    "content = requests.get(p[\"url\"])\n",
    "soup = BeautifulSoup(content.text, \"html.parser\")\n"
   ]
  },
  {
   "cell_type": "code",
   "execution_count": 35,
   "metadata": {},
   "outputs": [],
   "source": [
    "clusters = soup.find_all(\"div\", class_=\"acalog-core\")"
   ]
  },
  {
   "cell_type": "code",
   "execution_count": 37,
   "metadata": {},
   "outputs": [
    {
     "data": {
      "text/plain": [
       "[<h2><a name=\"AMajorInAfricanaStudiesMustInclude\"></a><a id=\"core_17780\" name=\"amajorinafricanastudiesmustinclude\"></a>A major in Africana Studies must include:</h2>,\n",
       " <h2><a name=\"Methods\"></a><a id=\"core_17781\" name=\"methods\"></a>Methods:</h2>,\n",
       " <h2><a name=\"HumanitiesTrackElectives\"></a><a id=\"core_17782\" name=\"humanitiestrackelectives\"></a>Humanities track electives:</h2>,\n",
       " <h2><a name=\"OneCourseInArtOrMusicFrom\"></a><a id=\"core_17783\" name=\"onecourseinartormusicfrom\"></a>One course in Art or Music from:</h2>,\n",
       " <h2><a name=\"OneSocialScienceCourse\"></a><a id=\"core_17784\" name=\"onesocialsciencecourse\"></a>One Social Science course</h2>]"
      ]
     },
     "execution_count": 37,
     "metadata": {},
     "output_type": "execute_result"
    }
   ],
   "source": [
    "soup.find_all(\"h2\")"
   ]
  },
  {
   "cell_type": "code",
   "execution_count": 36,
   "metadata": {},
   "outputs": [
    {
     "data": {
      "text/plain": [
       "5"
      ]
     },
     "execution_count": 36,
     "metadata": {},
     "output_type": "execute_result"
    }
   ],
   "source": [
    "len(clusters)"
   ]
  },
  {
   "cell_type": "code",
   "execution_count": 38,
   "metadata": {},
   "outputs": [],
   "source": [
    "cluster = clusters[0]\n",
    "\n",
    "courses = cluster.find_all(\"li\", class_=\"acalog-course\")"
   ]
  },
  {
   "cell_type": "code",
   "execution_count": 42,
   "metadata": {},
   "outputs": [
    {
     "data": {
      "text/plain": [
       "['AFS-100 Introduction to Africana Studies',\n",
       " 'AFS-400 Africana Studies Capstone Course',\n",
       " 'ANT-202 Peoples of Africa and the African Diaspora or\\xa0HST 145']"
      ]
     },
     "execution_count": 42,
     "metadata": {},
     "output_type": "execute_result"
    }
   ],
   "source": [
    "[course.text.strip() for course in courses]"
   ]
  }
 ],
 "metadata": {
  "kernelspec": {
   "display_name": "base",
   "language": "python",
   "name": "python3"
  },
  "language_info": {
   "codemirror_mode": {
    "name": "ipython",
    "version": 3
   },
   "file_extension": ".py",
   "mimetype": "text/x-python",
   "name": "python",
   "nbconvert_exporter": "python",
   "pygments_lexer": "ipython3",
   "version": "3.9.12"
  }
 },
 "nbformat": 4,
 "nbformat_minor": 2
}
