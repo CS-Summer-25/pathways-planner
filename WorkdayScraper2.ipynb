{
  "cells": [
    {
      "cell_type": "code",
      "execution_count": 2,
      "metadata": {
        "id": "VYE5_NuocFJA"
      },
      "outputs": [],
      "source": [
        "from bs4 import BeautifulSoup\n",
        "from tqdm import tqdm\n",
        "import pandas as pd\n",
        "import os\n",
        "import re\n",
        "import csv"
      ]
    },
    {
      "cell_type": "markdown",
      "metadata": {},
      "source": [
        "### If the files you want are already in the csv-files folder, just skip to step 7"
      ]
    },
    {
      "cell_type": "markdown",
      "metadata": {
        "id": "9Fm_b8q6J6Kh"
      },
      "source": [
        "# Step 1: Open File"
      ]
    },
    {
      "cell_type": "code",
      "execution_count": 324,
      "metadata": {
        "colab": {
          "base_uri": "https://localhost:8080/"
        },
        "id": "dZneuBaeWDlF",
        "outputId": "6a33c18f-c1a5-4888-90a1-cc855d9663c0"
      },
      "outputs": [
        {
          "name": "stdout",
          "output_type": "stream",
          "text": [
            "Success! fileName = Spring 25.html\n"
          ]
        }
      ],
      "source": [
        "fileName = input(\"What is the name of the file (format: SemesterNameYY.html): \")\n",
        "x = 0\n",
        "while fileName not in os.listdir(\"workday-data\") and x < 3:\n",
        "  fileName = input(\"{} not found. Try again\".format(fileName))\n",
        "  x += 1\n",
        "if x >= 3 and fileName not in os.listdir(\"workday-data\"):\n",
        "  raise Exception(\"File not found\")\n",
        "print(\"Success! fileName = {}\".format(fileName))"
      ]
    },
    {
      "cell_type": "code",
      "execution_count": 325,
      "metadata": {
        "id": "ALmbS4c6cjuD"
      },
      "outputs": [],
      "source": [
        "file_path = \"workday-data/\" + fileName\n",
        "\n",
        "with open(file_path, \"r\") as file:\n",
        "    content = file.read()\n",
        "\n",
        "soup = BeautifulSoup(content, \"html.parser\")\n",
        "semester = fileName.replace(\".html\", \"\")\n",
        "# WOVQ WPUQ WHWQ\n",
        "# data-automation-id= [\"promptOption\", \"menuItem\", \"compositeSubHeaderOne\", ...]\n",
        "# promptOption: course, schedule, schedule-details, classmode, prqs\n",
        "# menuItem: schedule, schedule-details, classmode, prqs\n",
        "# compositeSubHeaderOne: instructor\n",
        "div_store = {\"Spring 25\" : \"WGVF WEVF\",\\\n",
        "             \"Fall 24\" : \"WJVF WHVF\",\n",
        "             \"Spring 24\" : \"WJVF WHVF\",\n",
        "             \"Fall 23\" : \"WJVF WHVF\",\n",
        "             \"Spring 23\" : \"WJVF WHVF\",\n",
        "             \"Fall 22\" : \"WJVF WHVF\"}\n",
        "# found these manually, may be a way to find them automatically?\n",
        "# seemingly, either Workday changed the code for last spring specifically, \n",
        "# or archived datacodes are stored differently as opposed to recent datacodes\n",
        "course_classes = soup.find_all(attrs={\"class\": div_store[semester]})"
      ]
    },
    {
      "cell_type": "markdown",
      "metadata": {
        "id": "5wgGZ-NCKFKz"
      },
      "source": [
        "# Step 2: Parse File for Courses"
      ]
    },
    {
      "cell_type": "code",
      "execution_count": 326,
      "metadata": {
        "colab": {
          "base_uri": "https://localhost:8080/"
        },
        "id": "liu8QF_wc4Ul",
        "outputId": "799a4c06-28fa-465c-a345-3fc74647d599"
      },
      "outputs": [
        {
          "name": "stderr",
          "output_type": "stream",
          "text": [
            "100%|██████████| 1121/1121 [00:00<00:00, 5704.50it/s]\n"
          ]
        }
      ],
      "source": [
        "# Each course is stored under <div class=\"WGVF WEVF\"\n",
        "# this class changes per webpage, but here is wgvf wevf\n",
        "# WJVF WHVF\n",
        "\n",
        "id_lod = []\n",
        "for course_data in tqdm(course_classes):\n",
        "  # grab course from this div\n",
        "  all_ids = course_data.find_all(attrs={\"id\" : lambda x: x and \"gwt-uid-\" in x})\n",
        "  x = 0\n",
        "  id_dict = {}\n",
        "  for element in all_ids:\n",
        "    # course should be lowest id\n",
        "    # remove the prompt option:\n",
        "    uid = int(element.attrs[\"id\"].replace(\"promptOption-\", \"\").replace(\"gwt-uid-\",\"\"))\n",
        "\n",
        "    if element.text not in id_dict.values():\n",
        "      id_dict[uid] = element.text\n",
        "\n",
        "  id_lod.append(id_dict)\n",
        "\n",
        "\n",
        "# PRQS and other section details are written somewhere else, under same div"
      ]
    },
    {
      "cell_type": "code",
      "execution_count": 327,
      "metadata": {
        "colab": {
          "base_uri": "https://localhost:8080/"
        },
        "id": "bpbeZHf4wsri",
        "outputId": "c5f44018-b303-4d1e-ad7d-5e97c8e3bf0d"
      },
      "outputs": [],
      "source": [
        "# # use this to test individual indexes\n",
        "# # for item in id_lod:\n",
        "# #   print(id_lod.index(item), len(item))\n",
        "# id_lod[895]"
      ]
    },
    {
      "cell_type": "markdown",
      "metadata": {
        "id": "GGSQtDiwKXfr"
      },
      "source": [
        "# Step 3: Sort by UID"
      ]
    },
    {
      "cell_type": "code",
      "execution_count": 328,
      "metadata": {
        "colab": {
          "base_uri": "https://localhost:8080/",
          "height": 423
        },
        "id": "JWJ0nujoysww",
        "outputId": "111adaa0-b746-441e-9a0e-695f057a1418"
      },
      "outputs": [
        {
          "data": {
            "text/html": [
              "<div>\n",
              "<style scoped>\n",
              "    .dataframe tbody tr th:only-of-type {\n",
              "        vertical-align: middle;\n",
              "    }\n",
              "\n",
              "    .dataframe tbody tr th {\n",
              "        vertical-align: top;\n",
              "    }\n",
              "\n",
              "    .dataframe thead th {\n",
              "        text-align: right;\n",
              "    }\n",
              "</style>\n",
              "<table border=\"1\" class=\"dataframe\">\n",
              "  <thead>\n",
              "    <tr style=\"text-align: right;\">\n",
              "      <th></th>\n",
              "      <th>gwt-uid</th>\n",
              "      <th>info</th>\n",
              "      <th>courseIdx</th>\n",
              "    </tr>\n",
              "  </thead>\n",
              "  <tbody>\n",
              "    <tr>\n",
              "      <th>0</th>\n",
              "      <td>24</td>\n",
              "      <td>ACC 120-01 - Principles of Financial and Manag...</td>\n",
              "      <td>0</td>\n",
              "    </tr>\n",
              "    <tr>\n",
              "      <th>1</th>\n",
              "      <td>26</td>\n",
              "      <td>Closed   |   Mark Bettner   |   In-Person   | ...</td>\n",
              "      <td>0</td>\n",
              "    </tr>\n",
              "    <tr>\n",
              "      <th>2</th>\n",
              "      <td>25</td>\n",
              "      <td>HIP-202 | TR | 8:30 AM - 9:45 AM</td>\n",
              "      <td>0</td>\n",
              "    </tr>\n",
              "    <tr>\n",
              "      <th>3</th>\n",
              "      <td>3026</td>\n",
              "      <td>Lecture</td>\n",
              "      <td>0</td>\n",
              "    </tr>\n",
              "    <tr>\n",
              "      <th>4</th>\n",
              "      <td>3027</td>\n",
              "      <td>PRQ - (No credit for ACC 111 or ACC 301) AND (...</td>\n",
              "      <td>0</td>\n",
              "    </tr>\n",
              "    <tr>\n",
              "      <th>...</th>\n",
              "      <td>...</td>\n",
              "      <td>...</td>\n",
              "      <td>...</td>\n",
              "    </tr>\n",
              "    <tr>\n",
              "      <th>3</th>\n",
              "      <td>7024</td>\n",
              "      <td>GER - CORE :: TA (Critical, Analytical Interpr...</td>\n",
              "      <td>1120</td>\n",
              "    </tr>\n",
              "    <tr>\n",
              "      <th>4</th>\n",
              "      <td>7025</td>\n",
              "      <td>GER - Global Awareness :: IEJ (Identities, Equ...</td>\n",
              "      <td>1120</td>\n",
              "    </tr>\n",
              "    <tr>\n",
              "      <th>5</th>\n",
              "      <td>7026</td>\n",
              "      <td>IDS :: Womenâ€™s, Gender, and Sexuality Studies</td>\n",
              "      <td>1120</td>\n",
              "    </tr>\n",
              "    <tr>\n",
              "      <th>6</th>\n",
              "      <td>7027</td>\n",
              "      <td>Lecture</td>\n",
              "      <td>1120</td>\n",
              "    </tr>\n",
              "    <tr>\n",
              "      <th>7</th>\n",
              "      <td>7028</td>\n",
              "      <td>PRQ - FYW (First Year Writing Seminar)</td>\n",
              "      <td>1120</td>\n",
              "    </tr>\n",
              "  </tbody>\n",
              "</table>\n",
              "<p>6053 rows × 3 columns</p>\n",
              "</div>"
            ],
            "text/plain": [
              "   gwt-uid                                               info courseIdx\n",
              "0       24  ACC 120-01 - Principles of Financial and Manag...         0\n",
              "1       26  Closed   |   Mark Bettner   |   In-Person   | ...         0\n",
              "2       25                   HIP-202 | TR | 8:30 AM - 9:45 AM         0\n",
              "3     3026                                            Lecture         0\n",
              "4     3027  PRQ - (No credit for ACC 111 or ACC 301) AND (...         0\n",
              "..     ...                                                ...       ...\n",
              "3     7024  GER - CORE :: TA (Critical, Analytical Interpr...      1120\n",
              "4     7025  GER - Global Awareness :: IEJ (Identities, Equ...      1120\n",
              "5     7026    IDS :: Womenâ€™s, Gender, and Sexuality Studies      1120\n",
              "6     7027                                            Lecture      1120\n",
              "7     7028             PRQ - FYW (First Year Writing Seminar)      1120\n",
              "\n",
              "[6053 rows x 3 columns]"
            ]
          },
          "execution_count": 328,
          "metadata": {},
          "output_type": "execute_result"
        }
      ],
      "source": [
        "id_df = pd.DataFrame([], index=[\"gwt-uid\", \"info\", \"courseIdx\"])\n",
        "for idx in range(len(id_lod)):\n",
        "  # print(idx)\n",
        "  dict_lst = [id_lod[idx].keys(), id_lod[idx].values(), [idx]*len(id_lod[idx])]\n",
        "  id_df = pd.concat([id_df, pd.DataFrame(dict_lst, index=[\"gwt-uid\", \"info\", \"courseIdx\"])], axis=1)\n",
        "id_df = id_df.T\n",
        "id_df\n",
        "# id_lod[0]"
      ]
    },
    {
      "cell_type": "code",
      "execution_count": 329,
      "metadata": {},
      "outputs": [],
      "source": [
        "# id_lod[0]"
      ]
    },
    {
      "cell_type": "code",
      "execution_count": 330,
      "metadata": {
        "id": "sD-w9rqPXj07"
      },
      "outputs": [],
      "source": [
        "id_df = id_df.reset_index(drop=True).sort_values(by=\"gwt-uid\", ascending=True)"
      ]
    },
    {
      "cell_type": "code",
      "execution_count": 331,
      "metadata": {
        "colab": {
          "base_uri": "https://localhost:8080/"
        },
        "id": "9AEVGL68NoP8",
        "outputId": "80d0c910-89a9-4171-e54e-277dbac7b189"
      },
      "outputs": [
        {
          "data": {
            "text/plain": [
              "1121"
            ]
          },
          "execution_count": 331,
          "metadata": {},
          "output_type": "execute_result"
        }
      ],
      "source": [
        "num_classes = id_df[\"courseIdx\"].max() + 1\n",
        "num_classes"
      ]
    },
    {
      "cell_type": "markdown",
      "metadata": {
        "id": "l3vtrXHdKcNd"
      },
      "source": [
        "# Step 4: Convert *Info* to usable data (Course: Instructor: Section)\n",
        "\n"
      ]
    },
    {
      "cell_type": "code",
      "execution_count": 2,
      "metadata": {
        "colab": {
          "base_uri": "https://localhost:8080/"
        },
        "id": "HirO1bj63w3A",
        "outputId": "15bf89f2-6ac5-4752-b2a6-c82e9b81d3d5"
      },
      "outputs": [
        {
          "ename": "NameError",
          "evalue": "name 'id_df' is not defined",
          "output_type": "error",
          "traceback": [
            "\u001b[31m---------------------------------------------------------------------------\u001b[39m",
            "\u001b[31mNameError\u001b[39m                                 Traceback (most recent call last)",
            "\u001b[36mCell\u001b[39m\u001b[36m \u001b[39m\u001b[32mIn[2]\u001b[39m\u001b[32m, line 2\u001b[39m\n\u001b[32m      1\u001b[39m \u001b[38;5;66;03m# min = id_df[\"gwt-uid\"].min()\u001b[39;00m\n\u001b[32m----> \u001b[39m\u001b[32m2\u001b[39m min_cond = \u001b[43mid_df\u001b[49m[\u001b[33m\"\u001b[39m\u001b[33mcourseIdx\u001b[39m\u001b[33m\"\u001b[39m] == \u001b[32m1\u001b[39m\n\u001b[32m      3\u001b[39m \u001b[38;5;66;03m# the idea is that the minimum value in the next course is always higher than smaller values\u001b[39;00m\n\u001b[32m      4\u001b[39m \u001b[38;5;66;03m# in the first course, but it is smaller than the larger values in the first course\u001b[39;00m\n\u001b[32m      5\u001b[39m threshold = id_df[min_cond][\u001b[33m\"\u001b[39m\u001b[33mgwt-uid\u001b[39m\u001b[33m\"\u001b[39m].min()\n",
            "\u001b[31mNameError\u001b[39m: name 'id_df' is not defined"
          ]
        }
      ],
      "source": [
        "# min = id_df[\"gwt-uid\"].min()\n",
        "min_cond = id_df[\"courseIdx\"] == 1\n",
        "# the idea is that the minimum value in the next course is always higher than smaller values\n",
        "# in the first course, but it is smaller than the larger values in the first course\n",
        "threshold = id_df[min_cond][\"gwt-uid\"].min()\n",
        "upper_limit = id_df[\"gwt-uid\"].max()\n",
        "\n",
        "for id in id_df[id_df[\"courseIdx\"]==0][\"gwt-uid\"]:\n",
        "  if id > threshold:\n",
        "    if id < upper_limit:\n",
        "      upper_limit = id\n",
        "upper_limit"
      ]
    },
    {
      "cell_type": "code",
      "execution_count": 333,
      "metadata": {
        "colab": {
          "base_uri": "https://localhost:8080/",
          "height": 206
        },
        "id": "-Q6cE8D6bln-",
        "outputId": "0d5ad6c9-f1f2-4467-a92a-0dac44f5f231"
      },
      "outputs": [
        {
          "data": {
            "text/html": [
              "<div>\n",
              "<style scoped>\n",
              "    .dataframe tbody tr th:only-of-type {\n",
              "        vertical-align: middle;\n",
              "    }\n",
              "\n",
              "    .dataframe tbody tr th {\n",
              "        vertical-align: top;\n",
              "    }\n",
              "\n",
              "    .dataframe thead th {\n",
              "        text-align: right;\n",
              "    }\n",
              "</style>\n",
              "<table border=\"1\" class=\"dataframe\">\n",
              "  <thead>\n",
              "    <tr style=\"text-align: right;\">\n",
              "      <th></th>\n",
              "      <th>gwt-uid</th>\n",
              "      <th>info</th>\n",
              "      <th>courseIdx</th>\n",
              "    </tr>\n",
              "  </thead>\n",
              "  <tbody>\n",
              "    <tr>\n",
              "      <th>0</th>\n",
              "      <td>24</td>\n",
              "      <td>ACC 120-01 - Principles of Financial and Manag...</td>\n",
              "      <td>0</td>\n",
              "    </tr>\n",
              "    <tr>\n",
              "      <th>2</th>\n",
              "      <td>25</td>\n",
              "      <td>HIP-202 | TR | 8:30 AM - 9:45 AM</td>\n",
              "      <td>0</td>\n",
              "    </tr>\n",
              "    <tr>\n",
              "      <th>1</th>\n",
              "      <td>26</td>\n",
              "      <td>Closed   |   Mark Bettner   |   In-Person   | ...</td>\n",
              "      <td>0</td>\n",
              "    </tr>\n",
              "    <tr>\n",
              "      <th>3</th>\n",
              "      <td>3026</td>\n",
              "      <td>Lecture</td>\n",
              "      <td>0</td>\n",
              "    </tr>\n",
              "    <tr>\n",
              "      <th>4</th>\n",
              "      <td>3027</td>\n",
              "      <td>PRQ - (No credit for ACC 111 or ACC 301) AND (...</td>\n",
              "      <td>0</td>\n",
              "    </tr>\n",
              "  </tbody>\n",
              "</table>\n",
              "</div>"
            ],
            "text/plain": [
              "  gwt-uid                                               info courseIdx\n",
              "0      24  ACC 120-01 - Principles of Financial and Manag...         0\n",
              "2      25                   HIP-202 | TR | 8:30 AM - 9:45 AM         0\n",
              "1      26  Closed   |   Mark Bettner   |   In-Person   | ...         0\n",
              "3    3026                                            Lecture         0\n",
              "4    3027  PRQ - (No credit for ACC 111 or ACC 301) AND (...         0"
            ]
          },
          "execution_count": 333,
          "metadata": {},
          "output_type": "execute_result"
        }
      ],
      "source": [
        "# verify the upper limit is accurate manually\n",
        "id_df[id_df[\"courseIdx\"]==0]"
      ]
    },
    {
      "cell_type": "code",
      "execution_count": 334,
      "metadata": {
        "colab": {
          "base_uri": "https://localhost:8080/"
        },
        "id": "9mqUmeE3gOfw",
        "outputId": "1de1025d-0b1e-43be-ab8b-cfa6ac514503"
      },
      "outputs": [
        {
          "name": "stdout",
          "output_type": "stream",
          "text": [
            "[24 'ACC 120-01 - Principles of Financial and Managerial Accounting' 0]\n",
            "[25 'HIP-202 | TR | 8:30 AM - 9:45 AM' 0]\n",
            "[26 'Closed   |   Mark Bettner   |   In-Person   |   25/24' 0]\n",
            "[3026 'Lecture' 0]\n",
            "[3027\n",
            " 'PRQ - (No credit for ACC 111 or ACC 301) AND (First-Year or Sophomore Class Standing)'\n",
            " 0]\n"
          ]
        }
      ],
      "source": [
        "course_cond = id_df[\"courseIdx\"] == 0\n",
        "lower_cond = id_df[\"gwt-uid\"] < upper_limit\n",
        "for item in id_df[course_cond].values:\n",
        "  print(item)"
      ]
    },
    {
      "cell_type": "code",
      "execution_count": 335,
      "metadata": {
        "id": "kNRuvbqf19-a"
      },
      "outputs": [],
      "source": [
        "# with all these things sorted by gwt-uid, let's assign courses, schedule, instructor\n",
        "# class_len = len(id_lod)\n",
        "d = []\n",
        "lower_cond  = id_df[\"gwt-uid\"] < upper_limit\n",
        "try:\n",
        "  for course_idx in range(num_classes):\n",
        "    course_cond = id_df[\"courseIdx\"] == course_idx\n",
        "    course_values = id_df[lower_cond & course_cond]\n",
        "\n",
        "    course_scale = len(course_values)\n",
        "    if course_scale == 3:\n",
        "      course, schedule, instructor = [value for value in course_values[\"info\"].values]\n",
        "    elif course_scale == 2:\n",
        "      course, instructor = [value for value in course_values[\"info\"].values]\n",
        "      schedule = \"empty | empty | empty\"\n",
        "\n",
        "    # deconstructing course\n",
        "    course_result = course.split(\"-\")\n",
        "    course_result = [x.strip() for x in course_result]\n",
        "    if len(course_result) <= 3:\n",
        "      courseCode, courseSection, courseTitle = course_result\n",
        "    elif len(course_result) > 3:\n",
        "      # in case the title has dashes in it\n",
        "      courseCode, courseSection, courseTitle  = (course_result[0], course_result[1], \"-\".join((course_result[2:])))\n",
        "\n",
        "    # deconstructing schedule (if it exists)\n",
        "    # the [-1] checks if there is a date attached (some courses do that)\n",
        "    schedule_result = schedule.split(\" | \")\n",
        "    if len(schedule_result) == 3 and \"/\"  not in schedule_result[-1]:\n",
        "      roomId, days, time                      = schedule_result\n",
        "    elif len(schedule_result) == 3 and \"/\" in schedule_result[-1]:\n",
        "      days, time                              = schedule_result[0], schedule_result[1]\n",
        "      roomId = \"empty\"\n",
        "\n",
        "    elif len(schedule_result) == 4 and \"/\" in schedule_result[-1]:\n",
        "      roomId, days, time                      = (schedule_result[0], schedule_result[1], schedule_result[2])\n",
        "\n",
        "    # deconstructing instructor\n",
        "    instructor_result = instructor.split(\" | \")\n",
        "    if len(instructor_result) == 4:\n",
        "      cStatus, insName, cMode, cFill          = [x.strip() for x in instructor_result]\n",
        "    else:\n",
        "      cStatus, cMode, cFill                   = [x.strip() for x in instructor_result]\n",
        "      insName = \"empty\"\n",
        "\n",
        "    # deal with this later\n",
        "    detail_values = id_df[course_cond & ~lower_cond]\n",
        "    other = detail_values[\"info\"].values\n",
        "    tags, prqs, cluster, others = [\"empty\"], [\"empty\"], [\"empty\"], [\"empty\"]\n",
        "    format = \"empty\"\n",
        "\n",
        "    for detail in other:\n",
        "      if detail in [\"Lecture\", \"Laboratory\", \"Seminar\", \"Studio\", \"Independent Study\",\\\n",
        "                    \"Experiential\", \"Discussion\", \"Internship\", \"Combination\"]:\n",
        "        format = detail\n",
        "\n",
        "      # specifically in Fall 23, they formatted \"AR - GER\" for FYW prereqs\n",
        "      elif detail.startswith(\"PRQ\") or detail.startswith(\"AR - GER\"):\n",
        "        prqs.remove(\"empty\") if \"empty\" in prqs else None\n",
        "        if detail.startswith(\"PRQ\"):\n",
        "          prqs.append(detail.replace(\"PRQ - \", \"\"))\n",
        "        else:\n",
        "          prqs.append(detail.replace(\"AR - GER - \", \"\"))\n",
        "\n",
        "      elif detail.startswith(\"GER\") or detail.startswith(\"IDS\") or \\\n",
        "      detail.startswith(\"Special Course\") or detail.startswith(\"FYW topics\"):\n",
        "        tags.remove(\"empty\") if \"empty\" in tags else None\n",
        "        tags.append(detail)\n",
        "\n",
        "      # clusters will be dealt with later\n",
        "\n",
        "\n",
        "      else:\n",
        "        others.remove(\"empty\") if \"empty\" in others else None\n",
        "        others.append(detail)\n",
        "\n",
        "    d.append([courseCode, courseSection, courseTitle, [roomId], [days], [time],\\\n",
        "              cStatus, insName, cMode, cFill, tags, prqs, cluster, [format], others])\n",
        "\n",
        "except Exception as e:\n",
        "  print(e)\n",
        "  print(course_idx)\n",
        "d;"
      ]
    },
    {
      "cell_type": "code",
      "execution_count": 336,
      "metadata": {
        "colab": {
          "base_uri": "https://localhost:8080/",
          "height": 170
        },
        "id": "NfxjY0FpyHyD",
        "outputId": "9d5295fe-0d56-4b42-a2ab-5800f903d56b"
      },
      "outputs": [
        {
          "data": {
            "text/html": [
              "<div>\n",
              "<style scoped>\n",
              "    .dataframe tbody tr th:only-of-type {\n",
              "        vertical-align: middle;\n",
              "    }\n",
              "\n",
              "    .dataframe tbody tr th {\n",
              "        vertical-align: top;\n",
              "    }\n",
              "\n",
              "    .dataframe thead th {\n",
              "        text-align: right;\n",
              "    }\n",
              "</style>\n",
              "<table border=\"1\" class=\"dataframe\">\n",
              "  <thead>\n",
              "    <tr style=\"text-align: right;\">\n",
              "      <th></th>\n",
              "      <th>CourseCode</th>\n",
              "      <th>Section</th>\n",
              "      <th>CourseTitle</th>\n",
              "      <th>RoomId</th>\n",
              "      <th>Days</th>\n",
              "      <th>Time</th>\n",
              "      <th>Status</th>\n",
              "      <th>InstructorName</th>\n",
              "      <th>Mode</th>\n",
              "      <th>Fill</th>\n",
              "      <th>CourseTags</th>\n",
              "      <th>Prerequisites</th>\n",
              "      <th>CourseCluster</th>\n",
              "      <th>InstructionalFormat</th>\n",
              "      <th>Other</th>\n",
              "    </tr>\n",
              "  </thead>\n",
              "  <tbody>\n",
              "    <tr>\n",
              "      <th>55</th>\n",
              "      <td>BIO 111</td>\n",
              "      <td>01</td>\n",
              "      <td>Foundations of Biology</td>\n",
              "      <td>[PYR-028]</td>\n",
              "      <td>[TR]</td>\n",
              "      <td>[8:30 AM - 9:45 AM]</td>\n",
              "      <td>Open</td>\n",
              "      <td>Wade Worthen</td>\n",
              "      <td>In-Person</td>\n",
              "      <td>23/28</td>\n",
              "      <td>[GER - CORE :: NWL - Natural World with Lab (m...</td>\n",
              "      <td>[empty]</td>\n",
              "      <td>[empty]</td>\n",
              "      <td>[Lecture]</td>\n",
              "      <td>[BIO 111-01L - Foundations of Biology]</td>\n",
              "    </tr>\n",
              "    <tr>\n",
              "      <th>56</th>\n",
              "      <td>BIO 111</td>\n",
              "      <td>01L</td>\n",
              "      <td>Foundations of Biology</td>\n",
              "      <td>[PYR-142]</td>\n",
              "      <td>[T]</td>\n",
              "      <td>[2:30 PM - 5:20 PM]</td>\n",
              "      <td>Open</td>\n",
              "      <td>Wade Worthen</td>\n",
              "      <td>In-Person</td>\n",
              "      <td>23/28</td>\n",
              "      <td>[GER - CORE :: NWL - Natural World with Lab (m...</td>\n",
              "      <td>[empty]</td>\n",
              "      <td>[empty]</td>\n",
              "      <td>[Laboratory]</td>\n",
              "      <td>[BIO 111-01 - Foundations of Biology]</td>\n",
              "    </tr>\n",
              "    <tr>\n",
              "      <th>57</th>\n",
              "      <td>BIO 111</td>\n",
              "      <td>02</td>\n",
              "      <td>Foundations of Biology</td>\n",
              "      <td>[PYR-026]</td>\n",
              "      <td>[MWF]</td>\n",
              "      <td>[11:30 AM - 12:20 PM]</td>\n",
              "      <td>Open</td>\n",
              "      <td>Grace Freundlich</td>\n",
              "      <td>In-Person</td>\n",
              "      <td>24/28</td>\n",
              "      <td>[GER - CORE :: NWL - Natural World with Lab (m...</td>\n",
              "      <td>[empty]</td>\n",
              "      <td>[empty]</td>\n",
              "      <td>[Lecture]</td>\n",
              "      <td>[BIO 111-02L - Foundations of Biology]</td>\n",
              "    </tr>\n",
              "    <tr>\n",
              "      <th>58</th>\n",
              "      <td>BIO 111</td>\n",
              "      <td>02L</td>\n",
              "      <td>Foundations of Biology</td>\n",
              "      <td>[PYR-142]</td>\n",
              "      <td>[W]</td>\n",
              "      <td>[2:30 PM - 5:20 PM]</td>\n",
              "      <td>Open</td>\n",
              "      <td>Grace Freundlich</td>\n",
              "      <td>In-Person</td>\n",
              "      <td>24/28</td>\n",
              "      <td>[GER - CORE :: NWL - Natural World with Lab (m...</td>\n",
              "      <td>[empty]</td>\n",
              "      <td>[empty]</td>\n",
              "      <td>[Laboratory]</td>\n",
              "      <td>[BIO 111-02 - Foundations of Biology]</td>\n",
              "    </tr>\n",
              "    <tr>\n",
              "      <th>59</th>\n",
              "      <td>BIO 111</td>\n",
              "      <td>03</td>\n",
              "      <td>Foundations of Biology</td>\n",
              "      <td>[PYR-026]</td>\n",
              "      <td>[TR]</td>\n",
              "      <td>[10:00 AM - 11:15 AM]</td>\n",
              "      <td>Open</td>\n",
              "      <td>David Hollis</td>\n",
              "      <td>In-Person</td>\n",
              "      <td>16/28</td>\n",
              "      <td>[GER - CORE :: NWL - Natural World with Lab (m...</td>\n",
              "      <td>[empty]</td>\n",
              "      <td>[empty]</td>\n",
              "      <td>[Lecture]</td>\n",
              "      <td>[BIO 111-03L - Foundations of Biology]</td>\n",
              "    </tr>\n",
              "    <tr>\n",
              "      <th>60</th>\n",
              "      <td>BIO 111</td>\n",
              "      <td>03L</td>\n",
              "      <td>Foundations of Biology</td>\n",
              "      <td>[PYR-142]</td>\n",
              "      <td>[R]</td>\n",
              "      <td>[2:30 PM - 5:20 PM]</td>\n",
              "      <td>Open</td>\n",
              "      <td>David Hollis</td>\n",
              "      <td>In-Person</td>\n",
              "      <td>16/28</td>\n",
              "      <td>[GER - CORE :: NWL - Natural World with Lab (m...</td>\n",
              "      <td>[empty]</td>\n",
              "      <td>[empty]</td>\n",
              "      <td>[Laboratory]</td>\n",
              "      <td>[BIO 111-03 - Foundations of Biology]</td>\n",
              "    </tr>\n",
              "  </tbody>\n",
              "</table>\n",
              "</div>"
            ],
            "text/plain": [
              "   CourseCode Section             CourseTitle     RoomId   Days  \\\n",
              "55    BIO 111      01  Foundations of Biology  [PYR-028]   [TR]   \n",
              "56    BIO 111     01L  Foundations of Biology  [PYR-142]    [T]   \n",
              "57    BIO 111      02  Foundations of Biology  [PYR-026]  [MWF]   \n",
              "58    BIO 111     02L  Foundations of Biology  [PYR-142]    [W]   \n",
              "59    BIO 111      03  Foundations of Biology  [PYR-026]   [TR]   \n",
              "60    BIO 111     03L  Foundations of Biology  [PYR-142]    [R]   \n",
              "\n",
              "                     Time Status    InstructorName       Mode   Fill  \\\n",
              "55    [8:30 AM - 9:45 AM]   Open      Wade Worthen  In-Person  23/28   \n",
              "56    [2:30 PM - 5:20 PM]   Open      Wade Worthen  In-Person  23/28   \n",
              "57  [11:30 AM - 12:20 PM]   Open  Grace Freundlich  In-Person  24/28   \n",
              "58    [2:30 PM - 5:20 PM]   Open  Grace Freundlich  In-Person  24/28   \n",
              "59  [10:00 AM - 11:15 AM]   Open      David Hollis  In-Person  16/28   \n",
              "60    [2:30 PM - 5:20 PM]   Open      David Hollis  In-Person  16/28   \n",
              "\n",
              "                                           CourseTags Prerequisites  \\\n",
              "55  [GER - CORE :: NWL - Natural World with Lab (m...       [empty]   \n",
              "56  [GER - CORE :: NWL - Natural World with Lab (m...       [empty]   \n",
              "57  [GER - CORE :: NWL - Natural World with Lab (m...       [empty]   \n",
              "58  [GER - CORE :: NWL - Natural World with Lab (m...       [empty]   \n",
              "59  [GER - CORE :: NWL - Natural World with Lab (m...       [empty]   \n",
              "60  [GER - CORE :: NWL - Natural World with Lab (m...       [empty]   \n",
              "\n",
              "   CourseCluster InstructionalFormat                                   Other  \n",
              "55       [empty]           [Lecture]  [BIO 111-01L - Foundations of Biology]  \n",
              "56       [empty]        [Laboratory]   [BIO 111-01 - Foundations of Biology]  \n",
              "57       [empty]           [Lecture]  [BIO 111-02L - Foundations of Biology]  \n",
              "58       [empty]        [Laboratory]   [BIO 111-02 - Foundations of Biology]  \n",
              "59       [empty]           [Lecture]  [BIO 111-03L - Foundations of Biology]  \n",
              "60       [empty]        [Laboratory]   [BIO 111-03 - Foundations of Biology]  "
            ]
          },
          "execution_count": 336,
          "metadata": {},
          "output_type": "execute_result"
        }
      ],
      "source": [
        "# in the dictionary keys, if the value is less than the length of id_lod (i.e. # classes), check if its a course, schedule, or instructor\n",
        "# otherwise, check if its a schedule-details, courseTags, format, prqs, or course cluster\n",
        "courses_df = pd.DataFrame(d, columns=[\"CourseCode\", \"Section\", \"CourseTitle\", \"RoomId\", \"Days\", \"Time\", \"Status\", \"InstructorName\", \"Mode\", \"Fill\", \"CourseTags\", \"Prerequisites\", \"CourseCluster\", \"InstructionalFormat\", \"Other\"])\n",
        "course = courses_df[\"CourseCode\"] == \"BIO 111\"\n",
        "# sect = courses_df[\"Section\"] == \"01\"\n",
        "# courses_df[course & sect][\"Other\"].values\n",
        "courses_df.loc[course]"
      ]
    },
    {
      "cell_type": "code",
      "execution_count": 337,
      "metadata": {
        "colab": {
          "base_uri": "https://localhost:8080/",
          "height": 170
        },
        "id": "Ga7a9p9ucDHo",
        "outputId": "b1b27939-8d48-4d3b-b631-da0f3b8ce926"
      },
      "outputs": [],
      "source": [
        "# # use this to test individual indexes\n",
        "# course_idx = int(input(\"# \"))\n",
        "# courses_df[course_idx:course_idx+1]"
      ]
    },
    {
      "cell_type": "markdown",
      "metadata": {
        "id": "VnLK-FNjK60Q"
      },
      "source": [
        "## Step 4.5: Create Prefixes, Locs to fill *CourseCluster*"
      ]
    },
    {
      "cell_type": "code",
      "execution_count": 338,
      "metadata": {
        "colab": {
          "base_uri": "https://localhost:8080/"
        },
        "id": "-nAwT2CthMj7",
        "outputId": "7c89156f-da54-4549-b926-12b6b87e299a"
      },
      "outputs": [
        {
          "name": "stdout",
          "output_type": "stream",
          "text": [
            "['ACC', 'AFS', 'ANT', 'ART', 'AST', 'BIO', 'BUS', 'CHM', 'CHN', 'CLS', 'COM', 'CSC', 'DAN', 'ECN', 'EDU', 'EES', 'ENG', 'EST', 'FRN', 'FST', 'FYW', 'GRK', 'GRM', 'HSC', 'HST', 'HUM', 'IGD', 'JPN', 'LAS', 'LNG', 'LTN', 'MEM', 'MES', 'MLL', 'MSL', 'MTH', 'MUS', 'NSC', 'PHL', 'PHY', 'POL', 'PSY', 'PTH', 'PVS', 'REL', 'SCI', 'SOC', 'SPN', 'SUS', 'THA', 'UNV', 'WGS']\n",
            "['BCM', 'CHP', 'DMB', 'FUR', 'HIP', 'HMP', 'JHN', 'LIB', 'PAC', 'PYR', 'RAB', 'RLY', 'RNK', 'SHI', 'TNS', 'TPH']\n"
          ]
        }
      ],
      "source": [
        "prefix_lst = sorted(set(courses_df[\"CourseCode\"].apply(lambda x: x.split(\" \")[0])))\n",
        "print(prefix_lst)\n",
        "\n",
        "locations = sorted(set(courses_df[\"RoomId\"].apply(lambda x: x[0].split(\"-\")[0] if x != \"empty\" else x)))\n",
        "locations.remove(\"empty\")\n",
        "print(locations)"
      ]
    },
    {
      "cell_type": "code",
      "execution_count": 339,
      "metadata": {
        "colab": {
          "base_uri": "https://localhost:8080/",
          "height": 458
        },
        "id": "FoYZg1JtW1tA",
        "outputId": "b9f5fbf6-ac48-43f7-f043-84bcc146a016"
      },
      "outputs": [
        {
          "data": {
            "text/plain": [
              "0       [empty]\n",
              "1       [empty]\n",
              "2       [empty]\n",
              "3       [empty]\n",
              "4       [empty]\n",
              "         ...   \n",
              "1116    [empty]\n",
              "1117    [empty]\n",
              "1118    [empty]\n",
              "1119    [empty]\n",
              "1120    [empty]\n",
              "Name: CourseCluster, Length: 1121, dtype: object"
            ]
          },
          "execution_count": 339,
          "metadata": {},
          "output_type": "execute_result"
        }
      ],
      "source": [
        "index = 0\n",
        "cond = courses_df[\"Other\"].apply(lambda x: True if x == (\"empty\") else False)\n",
        "# cond = courses_df[\"CourseCode\"]==\"ACC 120\"\n",
        "courses_df[~cond][\"CourseCluster\"]\n",
        "# courses_df.loc[0, \"Other\"][0]"
      ]
    },
    {
      "cell_type": "code",
      "execution_count": 340,
      "metadata": {
        "colab": {
          "base_uri": "https://localhost:8080/",
          "height": 115
        },
        "id": "72HkjnpEbZg3",
        "outputId": "36f40f40-193a-496c-f427-44018e905e60"
      },
      "outputs": [],
      "source": [
        "# course = courses_df[\"CourseCode\"] == \"PSY 201\"\n",
        "# sect = courses_df[\"Section\"] == \"01\"\n",
        "# courses_df[course & sect][\"CourseCluster\"]"
      ]
    },
    {
      "cell_type": "markdown",
      "metadata": {
        "id": "DILi5v3OLFqJ"
      },
      "source": [
        "# Step 5: Fill *CourseCluster* from remaining *Other* data"
      ]
    },
    {
      "cell_type": "code",
      "execution_count": 341,
      "metadata": {
        "id": "dGGI2yzThkZ9"
      },
      "outputs": [],
      "source": [
        "for idx in courses_df.index:\n",
        "  # other = courses_df.loc[idx, \"Other\"]\n",
        "  if courses_df.loc[idx, \"Other\"] != [\"empty\"]:\n",
        "    store = []\n",
        "    for item in courses_df.loc[idx, \"Other\"]:\n",
        "\n",
        "      # courseCluster gets resolved here - only courses get added\n",
        "      if item.startswith(tuple(prefix_lst)):\n",
        "        courses_df.loc[idx, \"CourseCluster\"].remove(\"empty\") if \"empty\" in courses_df.loc[idx, \"CourseCluster\"] else courses_df.loc[idx, \"CourseCluster\"]\n",
        "        courses_df.loc[idx, \"CourseCluster\"].append(item)\n",
        "        store.append(item)\n",
        "\n",
        "      # some courses have two \"schedules\", this should resolve that\n",
        "      elif item.startswith(tuple(locations)):\n",
        "        # if there is a date there\n",
        "        if len(item.split(\" | \")) > 3:\n",
        "          split = item.split(\" | \")\n",
        "          roomId, days, time = split[0], split[1], split[2]\n",
        "        else:\n",
        "          roomId, days, time = item.split(\" | \")\n",
        "        courses_df.loc[idx, \"RoomId\"].append(roomId)\n",
        "        courses_df.loc[idx, \"Days\"].append(days)\n",
        "        courses_df.loc[idx, \"Time\"].append(time)\n",
        "        store.append(item)\n",
        "\n",
        "      # but what if there is no roomId, muhahahaha\n",
        "      elif item.startswith((\"M\", \"T\", \"W\", \"R\", \"F\")):\n",
        "        days, time = item.split(\" | \")\n",
        "        roomId = \"empty\"\n",
        "        courses_df.loc[idx, \"RoomId\"].append(roomId)\n",
        "        courses_df.loc[idx, \"Days\"].append(days)\n",
        "        courses_df.loc[idx, \"Time\"].append(time)\n",
        "        store.append(item)\n",
        "\n",
        "    for item in store:\n",
        "      courses_df.loc[idx, \"Other\"].remove(item) if item in courses_df.loc[idx, \"Other\"] else courses_df.loc[idx, \"Other\"]\n",
        "      if len(courses_df.loc[idx, \"Other\"]) == 0:\n",
        "        courses_df.loc[idx, \"Other\"] = [(\"empty\")]\n",
        "\n",
        "\n",
        "courses_df;\n",
        "    # print(other)"
      ]
    },
    {
      "cell_type": "code",
      "execution_count": 342,
      "metadata": {
        "id": "dBqo-0YmE3Gd"
      },
      "outputs": [],
      "source": [
        "# ONLY RUN THIS ONCE\n",
        "courses_df[\"CourseCluster\"] = courses_df[\"CourseCluster\"].apply(lambda x: \", \".join(x) if x != [\"empty\"] else \"empty\")\n",
        "# courses_df[\"Other\"] = courses_df[\"Other\"].apply(lambda x: \"\\n\".join(x)"
      ]
    },
    {
      "cell_type": "code",
      "execution_count": 343,
      "metadata": {
        "colab": {
          "base_uri": "https://localhost:8080/",
          "height": 152
        },
        "id": "xWLr-JV_eqo-",
        "outputId": "11ac562f-a81f-43d6-b702-493bf12ef5e5"
      },
      "outputs": [],
      "source": [
        "# course = courses_df[\"CourseCode\"] == \"BIO 111\"\n",
        "# sect = courses_df[\"Section\"] == \"02\"\n",
        "# courses_df[course & sect]#[\"CourseCluster\"]"
      ]
    },
    {
      "cell_type": "code",
      "execution_count": 344,
      "metadata": {
        "colab": {
          "base_uri": "https://localhost:8080/"
        },
        "collapsed": true,
        "id": "uKGr2vCaLoD7",
        "outputId": "08ae6f53-0913-4294-b896-cc75c655c2d0"
      },
      "outputs": [
        {
          "name": "stdout",
          "output_type": "stream",
          "text": [
            "ANT 306-01L - Human Osteology & Paleopathology\n",
            "ANT 306-01 - Human Osteology & Paleopathology\n",
            "BIO 102-01L - Biology and the Environment\n",
            "BIO 102-01 - Biology and the Environment\n",
            "BIO 111-01L - Foundations of Biology\n",
            "BIO 111-01 - Foundations of Biology\n",
            "BIO 111-02L - Foundations of Biology\n",
            "BIO 111-02 - Foundations of Biology\n",
            "BIO 111-03L - Foundations of Biology\n",
            "BIO 111-03 - Foundations of Biology\n",
            "BIO 210-01L - Genetics\n",
            "BIO 210-01 - Genetics\n",
            "BIO 210-02L - Genetics\n",
            "BIO 210-02 - Genetics\n",
            "BIO 210-03L - Genetics\n",
            "BIO 210-03 - Genetics\n",
            "BIO 210-04L - Genetics\n",
            "BIO 210-04 - Genetics\n",
            "BIO 222-01L - Research and Analysis\n",
            "BIO 222-01 - Research and Analysis\n",
            "BIO 222-02L - Research and Analysis\n",
            "BIO 222-02 - Research and Analysis\n",
            "BIO 303-01L - Biochemistry of the Cell\n",
            "BIO 303-01 - Biochemistry of the Cell\n",
            "BIO 320-01L - Animal Physiology\n",
            "BIO 320-01 - Animal Physiology\n",
            "BIO 322-01L - Human Physiology\n",
            "BIO 322-01 - Human Physiology\n",
            "BIO 340-01L - Ecology\n",
            "BIO 340-01 - Ecology\n",
            "BIO 340-02L - Ecology\n",
            "BIO 340-02 - Ecology\n",
            "BIO 401-01L - Economic Botany\n",
            "BIO 401-01 - Economic Botany\n",
            "BIO 402-TSL - Belize: Biodiversity and Culture\n",
            "BIO 402-TS - Belize: Biodiversity and Culture\n",
            "BIO 423-TSL - Marine Biology\n",
            "BIO 423-TS - Marine Biology\n",
            "BIO 425-01L - Developmental Biology\n",
            "BIO 425-01 - Developmental Biology\n",
            "BIO 426-01L - Human Anatomical Systems\n",
            "BIO 426-01 - Human Anatomical Systems\n",
            "BIO 460-01L - Neurobiology\n",
            "BIO 460-01 - Neurobiology\n",
            "CHM 110-01L - Foundations of Chemistry\n",
            "CHM 110-01 - Foundations of Chemistry\n",
            "CHM 110-02L - Foundations of Chemistry\n",
            "CHM 110-02 - Foundations of Chemistry\n",
            "CHM 110-03L - Foundations of Chemistry\n",
            "CHM 110-03 - Foundations of Chemistry\n",
            "CHM 110-04L - Foundations of Chemistry\n",
            "CHM 110-04 - Foundations of Chemistry\n",
            "CHM 115-03L - Kinetics Thermodynamics and the Environment\n",
            "CHM 115-03 - Kinetics Thermodynamics and the Environment\n",
            "CHM 115-04L - Kinetics Thermodynamics and the Environment\n",
            "CHM 115-04 - Kinetics Thermodynamics and the Environment\n",
            "CHM 230-01L - Inorganic Chemistry\n",
            "CHM 230-01 - Inorganic Chemistry\n",
            "CHM 240-01L - Experimental Techniques\n",
            "CHM 240-01 - Experimental Techniques\n",
            "CHM 240-02L - Experimental Techniques\n",
            "CHM 240-02 - Experimental Techniques\n",
            "CHM 340-01L - Physical Chemistry II\n",
            "CHM 340-01 - Physical Chemistry II\n",
            "CHM 465-01L - Advanced Biological Chemistry\n",
            "CHM 465-01 - Advanced Biological Chemistry\n",
            "CSC 105-01L - Intro to Computer Science (Creativity and Computers)\n",
            "CSC 105-01 - Intro to Computer Science (Creativity and Computers)\n",
            "CSC 121-01L - Intro to Computer Programming\n",
            "CSC 121-01 - Intro to Computer Programming\n",
            "CSC 121-02L - Intro to Computer Programming\n",
            "CSC 121-02 - Intro to Computer Programming\n",
            "CSC 122-01L - Data Structures and Algorithms\n",
            "CSC 122-01 - Data Structures and Algorithms\n",
            "CSC 223-01L - Advanced Data Structures and Software Development\n",
            "CSC 223-01 - Advanced Data Structures and Software Development\n",
            "CSC 231-01L - Computer Organization\n",
            "CSC 231-01 - Computer Organization\n",
            "CSC 272-01L - Introduction to Data Mining\n",
            "CSC 272-01 - Introduction to Data Mining\n",
            "CSC 272-02L - Introduction to Data Mining\n",
            "CSC 272-02 - Introduction to Data Mining\n",
            "CSC 332-TUL - Data Communications and Networking\n",
            "CSC 332-TU - Data Communications and Networking\n",
            "CSC 341-01L - Database Management Systems\n",
            "CSC 341-01 - Database Management Systems\n",
            "CSC 372-01L - Machine Learning with Big Data\n",
            "CSC 372-01 - Machine Learning with Big Data\n",
            "ECN 331-01L - Empirical Methods in Economics\n",
            "ECN 331-01 - Empirical Methods in Economics\n",
            "EES 112-01L - Environmental Science\n",
            "EES 112-01 - Environmental Science\n",
            "EES 112-02L - Environmental Science\n",
            "EES 112-02 - Environmental Science\n",
            "EES 113-01L - Natural Hazards and Natural Disasters\n",
            "EES 113-01 - Natural Hazards and Natural Disasters\n",
            "EES 115-02L - Earth Systems\n",
            "EES 115-02 - Earth Systems\n",
            "EES 201-01L - Geographic Information Systems\n",
            "EES 201-01 - Geographic Information Systems\n",
            "EES 202-01L - Methods in Earth and Environmental Sciences\n",
            "EES 202-01 - Methods in Earth and Environmental Sciences\n",
            "EES 301-01L - Remote Sensing\n",
            "EES 301-01 - Remote Sensing\n",
            "EST 301-01L - Environment and Society\n",
            "EST 301-01 - Environment and Society\n",
            "FST 202-01L - Introduction to Reading Film\n",
            "FST 202-01 - Introduction to Reading Film\n",
            "HSC 101-01L - Wellness Concepts\n",
            "HSC 101-01 - Wellness Concepts\n",
            "HSC 101-02L - Wellness Concepts\n",
            "HSC 101-02 - Wellness Concepts\n",
            "HSC 101-03L - Wellness Concepts\n",
            "HSC 101-03 - Wellness Concepts\n",
            "HSC 101-04L - Wellness Concepts\n",
            "HSC 101-04 - Wellness Concepts\n",
            "HSC 101-05L - Wellness Concepts\n",
            "HSC 101-05 - Wellness Concepts\n",
            "HSC 101-06L - Wellness Concepts\n",
            "HSC 101-06 - Wellness Concepts\n",
            "HSC 101-07L - Wellness Concepts\n",
            "HSC 101-07 - Wellness Concepts\n",
            "HSC 101-08L - Wellness Concepts\n",
            "HSC 101-08 - Wellness Concepts\n",
            "HSC 101-09L - Wellness Concepts\n",
            "HSC 101-09 - Wellness Concepts\n",
            "HSC 101-10L - Wellness Concepts\n",
            "HSC 101-10 - Wellness Concepts\n",
            "HSC 101-11L - Wellness Concepts\n",
            "HSC 101-11 - Wellness Concepts\n",
            "HSC 102-01L - Mindfulness for Stress Reduction and Wellness\n",
            "HSC 102-01 - Mindfulness for Stress Reduction and Wellness\n",
            "HSC 201-01L - Research and Evaluation in Health Sciences\n",
            "HSC 201-01 - Research and Evaluation in Health Sciences\n",
            "HSC 201-02L - Research and Evaluation in Health Sciences\n",
            "HSC 201-02 - Research and Evaluation in Health Sciences\n",
            "HSC 210-01L - Anatomy and Physiology I\n",
            "HSC 210-01 - Anatomy and Physiology I\n",
            "HSC 210-02L - Anatomy and Physiology I\n",
            "HSC 210-02 - Anatomy and Physiology I\n",
            "HSC 211-01L - Anatomy and Physiology II\n",
            "HSC 211-01 - Anatomy and Physiology II\n",
            "HSC 211-02L - Anatomy and Physiology II\n",
            "HSC 211-02 - Anatomy and Physiology II\n",
            "HSC 401-01L - Epidemiology\n",
            "HSC 401-01 - Epidemiology\n",
            "MLL 360-01 - Latin America Through Film\n",
            "MSL 102-01L - Foundations of Agile and Adaptive Leadership\n",
            "MSL 102-01 - Foundations of Agile and Adaptive Leadership\n",
            "MSL 202-01L - Decision Making and Army Doctrine\n",
            "MSL 202-01 - Decision Making and Army Doctrine\n",
            "MSL 302-01L - Applied Leadership\n",
            "MSL 302-01 - Applied Leadership\n",
            "MSL 402-01L - Adaptive Leadership\n",
            "MSL 402-01 - Adaptive Leadership\n",
            "POL 150-01L - Introduction to Political Analysis\n",
            "POL 150-01 - Introduction to Political Analysis\n",
            "POL 150-02L - Introduction to Political Analysis\n",
            "POL 150-02 - Introduction to Political Analysis\n",
            "PSY 201-01L - Research Methods and Statistics I, PSY 202-01L - Research Methods and Statistics II, PSY 202-01 - Research Methods and Statistics II\n",
            "PSY 201-01 - Research Methods and Statistics I, PSY 202-01L - Research Methods and Statistics II, PSY 202-01 - Research Methods and Statistics II\n",
            "PSY 201-02L - Research Methods and Statistics I, PSY 202-02L - Research Methods and Statistics II, PSY 202-02 - Research Methods and Statistics II\n",
            "PSY 201-02 - Research Methods and Statistics I, PSY 202-02L - Research Methods and Statistics II, PSY 202-02 - Research Methods and Statistics II\n",
            "PSY 201-01L - Research Methods and Statistics I, PSY 201-01 - Research Methods and Statistics I, PSY 202-01L - Research Methods and Statistics II\n",
            "PSY 201-01L - Research Methods and Statistics I, PSY 201-01 - Research Methods and Statistics I, PSY 202-01 - Research Methods and Statistics II\n",
            "PSY 201-02L - Research Methods and Statistics I, PSY 201-02 - Research Methods and Statistics I, PSY 202-02L - Research Methods and Statistics II\n",
            "PSY 201-02L - Research Methods and Statistics I, PSY 201-02 - Research Methods and Statistics I, PSY 202-02 - Research Methods and Statistics II\n",
            "PSY 320-01L - Introduction to Biopsychology\n",
            "PSY 320-01 - Introduction to Biopsychology\n",
            "PSY 328-01L - Sensation and Perception\n",
            "PSY 328-01 - Sensation and Perception\n",
            "PSY 418-01L - Eating Disorders\n",
            "PSY 418-01 - Eating Disorders\n",
            "SCI 201-01L - Microbes and Society\n",
            "SCI 201-01 - Microbes and Society\n",
            "SCI 220-01L - Biochemistry: Macromolecules and Metabolism\n",
            "SCI 220-01 - Biochemistry: Macromolecules and Metabolism\n",
            "SUS 120-01L - Principles of Sustainability Science\n",
            "SUS 120-01 - Principles of Sustainability Science\n",
            "SUS 120-02L - Principles of Sustainability Science\n",
            "SUS 120-02 - Principles of Sustainability Science\n",
            "SUS 120-03L - Principles of Sustainability Science\n",
            "SUS 120-03 - Principles of Sustainability Science\n",
            "SUS 216-01L - Sustainability Reporting\n",
            "SUS 216-01 - Sustainability Reporting\n",
            "SUS 220-01L - Mineral Resources and Sustainable Development\n",
            "SUS 220-01 - Mineral Resources and Sustainable Development\n",
            "SUS 242-01L - Dynamic System Modeling\n",
            "SUS 242-01 - Dynamic System Modeling\n",
            "THA 116-01L - Costume Crafts\n",
            "THA 116-01 - Costume Crafts\n",
            "THA 310-01L - Directing\n",
            "THA 310-01 - Directing\n"
          ]
        }
      ],
      "source": [
        "# check to make sure these are just courses\n",
        "for item in courses_df[(courses_df['CourseCluster']!=\"empty\")][\"CourseCluster\"]:\n",
        "  print(item)"
      ]
    },
    {
      "cell_type": "code",
      "execution_count": 345,
      "metadata": {
        "colab": {
          "base_uri": "https://localhost:8080/",
          "height": 73
        },
        "id": "oorKrSUvMJeJ",
        "outputId": "976111a3-22d1-4bc5-cd99-ef018a3a785d"
      },
      "outputs": [
        {
          "data": {
            "text/html": [
              "<div>\n",
              "<style scoped>\n",
              "    .dataframe tbody tr th:only-of-type {\n",
              "        vertical-align: middle;\n",
              "    }\n",
              "\n",
              "    .dataframe tbody tr th {\n",
              "        vertical-align: top;\n",
              "    }\n",
              "\n",
              "    .dataframe thead th {\n",
              "        text-align: right;\n",
              "    }\n",
              "</style>\n",
              "<table border=\"1\" class=\"dataframe\">\n",
              "  <thead>\n",
              "    <tr style=\"text-align: right;\">\n",
              "      <th></th>\n",
              "      <th>CourseCode</th>\n",
              "      <th>Section</th>\n",
              "      <th>CourseTitle</th>\n",
              "      <th>RoomId</th>\n",
              "      <th>Days</th>\n",
              "      <th>Time</th>\n",
              "      <th>Status</th>\n",
              "      <th>InstructorName</th>\n",
              "      <th>Mode</th>\n",
              "      <th>Fill</th>\n",
              "      <th>CourseTags</th>\n",
              "      <th>Prerequisites</th>\n",
              "      <th>CourseCluster</th>\n",
              "      <th>InstructionalFormat</th>\n",
              "      <th>Other</th>\n",
              "    </tr>\n",
              "  </thead>\n",
              "  <tbody>\n",
              "  </tbody>\n",
              "</table>\n",
              "</div>"
            ],
            "text/plain": [
              "Empty DataFrame\n",
              "Columns: [CourseCode, Section, CourseTitle, RoomId, Days, Time, Status, InstructorName, Mode, Fill, CourseTags, Prerequisites, CourseCluster, InstructionalFormat, Other]\n",
              "Index: []"
            ]
          },
          "execution_count": 345,
          "metadata": {},
          "output_type": "execute_result"
        }
      ],
      "source": [
        "is_empty = courses_df[\"Other\"].apply(lambda x: False if x == [(\"empty\")] else True)\n",
        "courses_df[is_empty]"
      ]
    },
    {
      "cell_type": "code",
      "execution_count": 346,
      "metadata": {
        "colab": {
          "base_uri": "https://localhost:8080/",
          "height": 833
        },
        "id": "BZHRfmwaOsAC",
        "outputId": "9003f788-dafd-4138-ad8d-854449e5155f"
      },
      "outputs": [
        {
          "data": {
            "text/html": [
              "<div>\n",
              "<style scoped>\n",
              "    .dataframe tbody tr th:only-of-type {\n",
              "        vertical-align: middle;\n",
              "    }\n",
              "\n",
              "    .dataframe tbody tr th {\n",
              "        vertical-align: top;\n",
              "    }\n",
              "\n",
              "    .dataframe thead th {\n",
              "        text-align: right;\n",
              "    }\n",
              "</style>\n",
              "<table border=\"1\" class=\"dataframe\">\n",
              "  <thead>\n",
              "    <tr style=\"text-align: right;\">\n",
              "      <th></th>\n",
              "      <th>CourseCode</th>\n",
              "      <th>Section</th>\n",
              "      <th>CourseTitle</th>\n",
              "      <th>RoomId</th>\n",
              "      <th>Days</th>\n",
              "      <th>Time</th>\n",
              "      <th>Status</th>\n",
              "      <th>InstructorName</th>\n",
              "      <th>Mode</th>\n",
              "      <th>Fill</th>\n",
              "      <th>CourseTags</th>\n",
              "      <th>Prerequisites</th>\n",
              "      <th>CourseCluster</th>\n",
              "      <th>InstructionalFormat</th>\n",
              "      <th>Other</th>\n",
              "    </tr>\n",
              "  </thead>\n",
              "  <tbody>\n",
              "    <tr>\n",
              "      <th>75</th>\n",
              "      <td>BIO 320</td>\n",
              "      <td>01</td>\n",
              "      <td>Animal Physiology</td>\n",
              "      <td>[PYR-143, PYR-143]</td>\n",
              "      <td>[MWF, F]</td>\n",
              "      <td>[9:30 AM - 10:20 AM, 8:30 AM - 9:20 AM]</td>\n",
              "      <td>Open</td>\n",
              "      <td>Dennis Haney</td>\n",
              "      <td>In-Person</td>\n",
              "      <td>15/18</td>\n",
              "      <td>[IDS :: Neuroscience]</td>\n",
              "      <td>[BIO 222 Research and Analysis]</td>\n",
              "      <td>BIO 320-01L - Animal Physiology</td>\n",
              "      <td>[Lecture]</td>\n",
              "      <td>[empty]</td>\n",
              "    </tr>\n",
              "    <tr>\n",
              "      <th>414</th>\n",
              "      <td>HSC 102</td>\n",
              "      <td>01</td>\n",
              "      <td>Mindfulness for Stress Reduction and Wellness</td>\n",
              "      <td>[CHP-GAR, CHP-GAR]</td>\n",
              "      <td>[W, F]</td>\n",
              "      <td>[8:30 AM - 10:20 AM, 8:30 AM - 9:20 AM]</td>\n",
              "      <td>Closed</td>\n",
              "      <td>Scott Murr</td>\n",
              "      <td>In-Person</td>\n",
              "      <td>20/20</td>\n",
              "      <td>[GER - CORE :: MB (Mind and Body)]</td>\n",
              "      <td>[Instructor Permission Required]</td>\n",
              "      <td>HSC 102-01L - Mindfulness for Stress Reduction...</td>\n",
              "      <td>[Lecture]</td>\n",
              "      <td>[empty]</td>\n",
              "    </tr>\n",
              "  </tbody>\n",
              "</table>\n",
              "</div>"
            ],
            "text/plain": [
              "    CourseCode Section                                    CourseTitle  \\\n",
              "75     BIO 320      01                              Animal Physiology   \n",
              "414    HSC 102      01  Mindfulness for Stress Reduction and Wellness   \n",
              "\n",
              "                 RoomId      Days                                     Time  \\\n",
              "75   [PYR-143, PYR-143]  [MWF, F]  [9:30 AM - 10:20 AM, 8:30 AM - 9:20 AM]   \n",
              "414  [CHP-GAR, CHP-GAR]    [W, F]  [8:30 AM - 10:20 AM, 8:30 AM - 9:20 AM]   \n",
              "\n",
              "     Status InstructorName       Mode   Fill  \\\n",
              "75     Open   Dennis Haney  In-Person  15/18   \n",
              "414  Closed     Scott Murr  In-Person  20/20   \n",
              "\n",
              "                             CourseTags                     Prerequisites  \\\n",
              "75                [IDS :: Neuroscience]   [BIO 222 Research and Analysis]   \n",
              "414  [GER - CORE :: MB (Mind and Body)]  [Instructor Permission Required]   \n",
              "\n",
              "                                         CourseCluster InstructionalFormat  \\\n",
              "75                     BIO 320-01L - Animal Physiology           [Lecture]   \n",
              "414  HSC 102-01L - Mindfulness for Stress Reduction...           [Lecture]   \n",
              "\n",
              "       Other  \n",
              "75   [empty]  \n",
              "414  [empty]  "
            ]
          },
          "execution_count": 346,
          "metadata": {},
          "output_type": "execute_result"
        }
      ],
      "source": [
        "large_sched_cond = courses_df[\"RoomId\"].apply(lambda x: False if len(x) == 1 else True)\n",
        "courses_df[large_sched_cond]"
      ]
    },
    {
      "cell_type": "code",
      "execution_count": 347,
      "metadata": {
        "colab": {
          "base_uri": "https://localhost:8080/"
        },
        "id": "SUEqdmfUMnEd",
        "outputId": "fbd3fdb0-ea1f-4190-c003-482dabf58ffb"
      },
      "outputs": [
        {
          "name": "stdout",
          "output_type": "stream",
          "text": [
            "Success\n"
          ]
        }
      ],
      "source": [
        "if len(courses_df[is_empty]) == 0:\n",
        "  courses_df = courses_df.drop(columns=[\"Other\"])\n",
        "  print(\"Success\")\n",
        "else:\n",
        "  print(\"Uh oh\")"
      ]
    },
    {
      "cell_type": "code",
      "execution_count": 348,
      "metadata": {
        "id": "8naI44ojPmvR"
      },
      "outputs": [],
      "source": [
        "courses_df;"
      ]
    },
    {
      "cell_type": "code",
      "execution_count": 349,
      "metadata": {
        "colab": {
          "base_uri": "https://localhost:8080/",
          "height": 115
        },
        "id": "OmTsK5ZEdAsW",
        "outputId": "85eb9d9e-00ea-4d5d-c219-2eeb7a4651fe"
      },
      "outputs": [],
      "source": [
        "# # find index of given course\n",
        "# courses_idx = int(input(\"#\"))\n",
        "# courses_df[courses_idx:courses_idx+1][[\"CourseCode\", \"Section\", \"CourseTags\", \\\n",
        "#                                        \"Prerequisites\", \"CourseCluster\", \"InstructionalFormat\"]]"
      ]
    },
    {
      "cell_type": "markdown",
      "metadata": {
        "id": "oLXXd4ExPtZB"
      },
      "source": [
        "# Step 6: Send data to .csv for web-parsing"
      ]
    },
    {
      "cell_type": "code",
      "execution_count": null,
      "metadata": {
        "id": "k2unBgZsraSi"
      },
      "outputs": [],
      "source": [
        "# first, make things into slash-delimited strings, not lists - lists complicate js a bit\n",
        "    # not comma-delimited - eg: some majors have commas in their titles\n",
        "# RUN ONCE\n",
        "courses_df = courses_df.apply(lambda x: x.apply(lambda y: \"/\".join(y) if type(y) == list else y))"
      ]
    },
    {
      "cell_type": "code",
      "execution_count": 351,
      "metadata": {
        "colab": {
          "base_uri": "https://localhost:8080/",
          "height": 597
        },
        "id": "harv6iT8P2yy",
        "outputId": "6246b20b-8ca5-4983-a400-e2dec305ace2"
      },
      "outputs": [
        {
          "data": {
            "text/html": [
              "<div>\n",
              "<style scoped>\n",
              "    .dataframe tbody tr th:only-of-type {\n",
              "        vertical-align: middle;\n",
              "    }\n",
              "\n",
              "    .dataframe tbody tr th {\n",
              "        vertical-align: top;\n",
              "    }\n",
              "\n",
              "    .dataframe thead th {\n",
              "        text-align: right;\n",
              "    }\n",
              "</style>\n",
              "<table border=\"1\" class=\"dataframe\">\n",
              "  <thead>\n",
              "    <tr style=\"text-align: right;\">\n",
              "      <th></th>\n",
              "      <th>CourseCode</th>\n",
              "      <th>Section</th>\n",
              "      <th>CourseTitle</th>\n",
              "      <th>CourseTags</th>\n",
              "      <th>Prerequisites</th>\n",
              "      <th>CourseCluster</th>\n",
              "      <th>InstructionalFormat</th>\n",
              "    </tr>\n",
              "  </thead>\n",
              "  <tbody>\n",
              "    <tr>\n",
              "      <th>0</th>\n",
              "      <td>ACC 120</td>\n",
              "      <td>01</td>\n",
              "      <td>Principles of Financial and Managerial Accounting</td>\n",
              "      <td>empty</td>\n",
              "      <td>(No credit for ACC 111 or ACC 301) AND (First-...</td>\n",
              "      <td>empty</td>\n",
              "      <td>Lecture</td>\n",
              "    </tr>\n",
              "    <tr>\n",
              "      <th>1</th>\n",
              "      <td>ACC 120</td>\n",
              "      <td>02</td>\n",
              "      <td>Principles of Financial and Managerial Accounting</td>\n",
              "      <td>empty</td>\n",
              "      <td>(No credit for ACC 111 or ACC 301) equivalency...</td>\n",
              "      <td>empty</td>\n",
              "      <td>Lecture</td>\n",
              "    </tr>\n",
              "    <tr>\n",
              "      <th>2</th>\n",
              "      <td>ACC 120</td>\n",
              "      <td>03</td>\n",
              "      <td>Principles of Financial and Managerial Accounting</td>\n",
              "      <td>empty</td>\n",
              "      <td>(No credit for ACC 111 or ACC 301)</td>\n",
              "      <td>empty</td>\n",
              "      <td>Lecture</td>\n",
              "    </tr>\n",
              "    <tr>\n",
              "      <th>3</th>\n",
              "      <td>ACC 120</td>\n",
              "      <td>04</td>\n",
              "      <td>Principles of Financial and Managerial Accounting</td>\n",
              "      <td>empty</td>\n",
              "      <td>(No credit for ACC 111 or ACC 301) AND (First-...</td>\n",
              "      <td>empty</td>\n",
              "      <td>Lecture</td>\n",
              "    </tr>\n",
              "    <tr>\n",
              "      <th>4</th>\n",
              "      <td>ACC 311</td>\n",
              "      <td>01</td>\n",
              "      <td>Intermediate Accounting I</td>\n",
              "      <td>empty</td>\n",
              "      <td>(ACC 111 or ACC 120) AND (First-Year, Sophomor...</td>\n",
              "      <td>empty</td>\n",
              "      <td>Lecture</td>\n",
              "    </tr>\n",
              "    <tr>\n",
              "      <th>...</th>\n",
              "      <td>...</td>\n",
              "      <td>...</td>\n",
              "      <td>...</td>\n",
              "      <td>...</td>\n",
              "      <td>...</td>\n",
              "      <td>...</td>\n",
              "      <td>...</td>\n",
              "    </tr>\n",
              "    <tr>\n",
              "      <th>1116</th>\n",
              "      <td>UNV TSGR</td>\n",
              "      <td>01</td>\n",
              "      <td>Germany-Travel Study</td>\n",
              "      <td>empty</td>\n",
              "      <td>empty</td>\n",
              "      <td>empty</td>\n",
              "      <td>Lecture</td>\n",
              "    </tr>\n",
              "    <tr>\n",
              "      <th>1117</th>\n",
              "      <td>UNV TSIT</td>\n",
              "      <td>01</td>\n",
              "      <td>Italy-Travel Study</td>\n",
              "      <td>empty</td>\n",
              "      <td>empty</td>\n",
              "      <td>empty</td>\n",
              "      <td>Lecture</td>\n",
              "    </tr>\n",
              "    <tr>\n",
              "      <th>1118</th>\n",
              "      <td>UNV TSLN</td>\n",
              "      <td>01</td>\n",
              "      <td>England-Furman in London</td>\n",
              "      <td>empty</td>\n",
              "      <td>Instructor Permission Required</td>\n",
              "      <td>empty</td>\n",
              "      <td>Experiential</td>\n",
              "    </tr>\n",
              "    <tr>\n",
              "      <th>1119</th>\n",
              "      <td>WGS 101</td>\n",
              "      <td>01</td>\n",
              "      <td>Issues in Women's  Gender and Sexuality Studies</td>\n",
              "      <td>GER - Global Awareness :: IEJ (Identities, Equ...</td>\n",
              "      <td>empty</td>\n",
              "      <td>empty</td>\n",
              "      <td>Lecture</td>\n",
              "    </tr>\n",
              "    <tr>\n",
              "      <th>1120</th>\n",
              "      <td>WGS 250</td>\n",
              "      <td>01</td>\n",
              "      <td>Introduction to Queer Theory and Sexuality Stu...</td>\n",
              "      <td>GER - CORE :: TA (Critical, Analytical Interpr...</td>\n",
              "      <td>FYW (First Year Writing Seminar)</td>\n",
              "      <td>empty</td>\n",
              "      <td>Lecture</td>\n",
              "    </tr>\n",
              "  </tbody>\n",
              "</table>\n",
              "<p>1121 rows × 7 columns</p>\n",
              "</div>"
            ],
            "text/plain": [
              "     CourseCode Section                                        CourseTitle  \\\n",
              "0       ACC 120      01  Principles of Financial and Managerial Accounting   \n",
              "1       ACC 120      02  Principles of Financial and Managerial Accounting   \n",
              "2       ACC 120      03  Principles of Financial and Managerial Accounting   \n",
              "3       ACC 120      04  Principles of Financial and Managerial Accounting   \n",
              "4       ACC 311      01                          Intermediate Accounting I   \n",
              "...         ...     ...                                                ...   \n",
              "1116   UNV TSGR      01                               Germany-Travel Study   \n",
              "1117   UNV TSIT      01                                 Italy-Travel Study   \n",
              "1118   UNV TSLN      01                           England-Furman in London   \n",
              "1119    WGS 101      01    Issues in Women's  Gender and Sexuality Studies   \n",
              "1120    WGS 250      01  Introduction to Queer Theory and Sexuality Stu...   \n",
              "\n",
              "                                             CourseTags  \\\n",
              "0                                                 empty   \n",
              "1                                                 empty   \n",
              "2                                                 empty   \n",
              "3                                                 empty   \n",
              "4                                                 empty   \n",
              "...                                                 ...   \n",
              "1116                                              empty   \n",
              "1117                                              empty   \n",
              "1118                                              empty   \n",
              "1119  GER - Global Awareness :: IEJ (Identities, Equ...   \n",
              "1120  GER - CORE :: TA (Critical, Analytical Interpr...   \n",
              "\n",
              "                                          Prerequisites CourseCluster  \\\n",
              "0     (No credit for ACC 111 or ACC 301) AND (First-...         empty   \n",
              "1     (No credit for ACC 111 or ACC 301) equivalency...         empty   \n",
              "2                    (No credit for ACC 111 or ACC 301)         empty   \n",
              "3     (No credit for ACC 111 or ACC 301) AND (First-...         empty   \n",
              "4     (ACC 111 or ACC 120) AND (First-Year, Sophomor...         empty   \n",
              "...                                                 ...           ...   \n",
              "1116                                              empty         empty   \n",
              "1117                                              empty         empty   \n",
              "1118                     Instructor Permission Required         empty   \n",
              "1119                                              empty         empty   \n",
              "1120                   FYW (First Year Writing Seminar)         empty   \n",
              "\n",
              "     InstructionalFormat  \n",
              "0                Lecture  \n",
              "1                Lecture  \n",
              "2                Lecture  \n",
              "3                Lecture  \n",
              "4                Lecture  \n",
              "...                  ...  \n",
              "1116             Lecture  \n",
              "1117             Lecture  \n",
              "1118        Experiential  \n",
              "1119             Lecture  \n",
              "1120             Lecture  \n",
              "\n",
              "[1121 rows x 7 columns]"
            ]
          },
          "execution_count": 351,
          "metadata": {},
          "output_type": "execute_result"
        }
      ],
      "source": [
        "# second, filter things we actually need:\n",
        "courses = courses_df[[\"CourseCode\", \"Section\", \"CourseTitle\", \"CourseTags\", \"Prerequisites\", \"CourseCluster\", \"InstructionalFormat\"]]\n",
        "courses"
      ]
    },
    {
      "cell_type": "code",
      "execution_count": 352,
      "metadata": {},
      "outputs": [],
      "source": [
        "# drop any repetitive lines\n",
        "final_courses = courses.drop_duplicates()"
      ]
    },
    {
      "cell_type": "code",
      "execution_count": 353,
      "metadata": {},
      "outputs": [
        {
          "data": {
            "text/plain": [
              "(1121, 1121)"
            ]
          },
          "execution_count": 353,
          "metadata": {},
          "output_type": "execute_result"
        }
      ],
      "source": [
        "len(final_courses), len(courses)"
      ]
    },
    {
      "cell_type": "code",
      "execution_count": 113,
      "metadata": {},
      "outputs": [
        {
          "data": {
            "text/plain": [
              "'0_Fall-22.html'"
            ]
          },
          "execution_count": 113,
          "metadata": {},
          "output_type": "execute_result"
        }
      ],
      "source": [
        "semester_order = [\"Fall 22\", \"Spring 23\", \"Fall 23\", \"Spring 24\", \"Fall 24\", \"Spring 25\"]\n",
        "newFileName = fileName.replace(\".html\", \"\")\n",
        "newFileName = str(semester_order.index(newFileName)) + \"_\" + fileName.replace(\" \", \"-\")\n",
        "newFileName"
      ]
    },
    {
      "cell_type": "code",
      "execution_count": null,
      "metadata": {
        "id": "9LbYlKPaQX23"
      },
      "outputs": [],
      "source": [
        "file_path = \"csv-files/{}\".format(newFileName.replace(\".html\",\".csv\"))\n",
        "final_courses.to_csv(file_path)"
      ]
    },
    {
      "cell_type": "markdown",
      "metadata": {},
      "source": [
        "# Step 7: Merge all .csv files into one workday-courses.csv file"
      ]
    },
    {
      "cell_type": "code",
      "execution_count": 3,
      "metadata": {},
      "outputs": [
        {
          "name": "stdout",
          "output_type": "stream",
          "text": [
            "1072 1065 1098 1076 1105 1121\n",
            "6537\n",
            "3022\n"
          ]
        }
      ],
      "source": [
        "file_lst = []\n",
        "for file in os.listdir(\"csv-files\"):\n",
        "    if file != \"programs.csv\" and file != \"gers.csv\":\n",
        "        file_df = pd.read_csv(\"csv-files/{}\".format(file))\n",
        "        file_df = file_df.drop(columns=[\"Unnamed: 0\"])\n",
        "        file_df[\"Semester\"] = file.replace(\".csv\", \"\")\n",
        "        file_lst.append(file_df)\n",
        "\n",
        "print(len(file_lst[0]), len(file_lst[1]), len(file_lst[2]), len(file_lst[3]), len(file_lst[4]), len(file_lst[5]))\n",
        "print(sum((\\\n",
        "            len(file_lst[0]),\\\n",
        "            len(file_lst[1]),\\\n",
        "            len(file_lst[2]),\\\n",
        "            len(file_lst[3]),\\\n",
        "            len(file_lst[4]),\\\n",
        "            len(file_lst[5])\\\n",
        "        )))\n",
        "all_workday_df= pd.concat(file_lst, ignore_index=True).sort_values(by=\"CourseCode\").drop_duplicates(subset=['CourseCode', 'Section',\\\n",
        "                                                                              'CourseTitle', 'CourseTags', 'Prerequisites',\\\n",
        "                                                                              'CourseCluster', 'InstructionalFormat'])\\\n",
        "                                                                                .reset_index().drop(columns=[\"index\"])\n",
        "print(len(all_workday_df))\n",
        "all_workday_df[all_workday_df[\"CourseCode\"]==\"ANT 101\"];"
      ]
    },
    {
      "cell_type": "markdown",
      "metadata": {},
      "source": [
        "# Step 8: Pull out appropriate Prereqs and Course Tags"
      ]
    },
    {
      "cell_type": "code",
      "execution_count": 4,
      "metadata": {},
      "outputs": [
        {
          "data": {
            "text/html": [
              "<div>\n",
              "<style scoped>\n",
              "    .dataframe tbody tr th:only-of-type {\n",
              "        vertical-align: middle;\n",
              "    }\n",
              "\n",
              "    .dataframe tbody tr th {\n",
              "        vertical-align: top;\n",
              "    }\n",
              "\n",
              "    .dataframe thead th {\n",
              "        text-align: right;\n",
              "    }\n",
              "</style>\n",
              "<table border=\"1\" class=\"dataframe\">\n",
              "  <thead>\n",
              "    <tr style=\"text-align: right;\">\n",
              "      <th></th>\n",
              "      <th>CourseCode</th>\n",
              "      <th>Section</th>\n",
              "      <th>CourseTitle</th>\n",
              "      <th>CourseTags</th>\n",
              "      <th>Prerequisites</th>\n",
              "      <th>CourseCluster</th>\n",
              "      <th>InstructionalFormat</th>\n",
              "      <th>Semester</th>\n",
              "    </tr>\n",
              "  </thead>\n",
              "  <tbody>\n",
              "    <tr>\n",
              "      <th>0</th>\n",
              "      <td>ACC 111</td>\n",
              "      <td>03</td>\n",
              "      <td>Principles of Financial Accounting</td>\n",
              "      <td>empty</td>\n",
              "      <td>empty</td>\n",
              "      <td>empty</td>\n",
              "      <td>Lecture</td>\n",
              "      <td>0_Fall-22</td>\n",
              "    </tr>\n",
              "    <tr>\n",
              "      <th>1</th>\n",
              "      <td>ACC 111</td>\n",
              "      <td>04</td>\n",
              "      <td>Principles of Financial Accounting</td>\n",
              "      <td>empty</td>\n",
              "      <td>empty</td>\n",
              "      <td>empty</td>\n",
              "      <td>Lecture</td>\n",
              "      <td>1_Spring-23</td>\n",
              "    </tr>\n",
              "    <tr>\n",
              "      <th>2</th>\n",
              "      <td>ACC 111</td>\n",
              "      <td>01</td>\n",
              "      <td>Principles of Financial Accounting</td>\n",
              "      <td>empty</td>\n",
              "      <td>PRQ  - Department Chair Permission Required</td>\n",
              "      <td>empty</td>\n",
              "      <td>Lecture</td>\n",
              "      <td>2_Fall-23</td>\n",
              "    </tr>\n",
              "    <tr>\n",
              "      <th>3</th>\n",
              "      <td>ACC 111</td>\n",
              "      <td>02</td>\n",
              "      <td>Principles of Financial Accounting</td>\n",
              "      <td>empty</td>\n",
              "      <td>PRQ  - Department Chair Permission Required</td>\n",
              "      <td>empty</td>\n",
              "      <td>Lecture</td>\n",
              "      <td>2_Fall-23</td>\n",
              "    </tr>\n",
              "    <tr>\n",
              "      <th>4</th>\n",
              "      <td>ACC 111</td>\n",
              "      <td>01</td>\n",
              "      <td>Principles of Financial Accounting</td>\n",
              "      <td>empty</td>\n",
              "      <td>First Year or Sophomore Class Standing</td>\n",
              "      <td>empty</td>\n",
              "      <td>Lecture</td>\n",
              "      <td>1_Spring-23</td>\n",
              "    </tr>\n",
              "    <tr>\n",
              "      <th>...</th>\n",
              "      <td>...</td>\n",
              "      <td>...</td>\n",
              "      <td>...</td>\n",
              "      <td>...</td>\n",
              "      <td>...</td>\n",
              "      <td>...</td>\n",
              "      <td>...</td>\n",
              "      <td>...</td>\n",
              "    </tr>\n",
              "    <tr>\n",
              "      <th>3017</th>\n",
              "      <td>WGS 240</td>\n",
              "      <td>01</td>\n",
              "      <td>Women in Science</td>\n",
              "      <td>IDS :: Medicine, Health and Culture/IDS :: Sci...</td>\n",
              "      <td>empty</td>\n",
              "      <td>empty</td>\n",
              "      <td>Lecture</td>\n",
              "      <td>4_Fall-24</td>\n",
              "    </tr>\n",
              "    <tr>\n",
              "      <th>3018</th>\n",
              "      <td>WGS 250</td>\n",
              "      <td>01</td>\n",
              "      <td>Introduction to Queer Theory and Sexuality Stu...</td>\n",
              "      <td>GER - CORE :: TA (Critical, Analytical Interpr...</td>\n",
              "      <td>FYW (First Year Writing Seminar)</td>\n",
              "      <td>empty</td>\n",
              "      <td>Lecture</td>\n",
              "      <td>5_Spring-25</td>\n",
              "    </tr>\n",
              "    <tr>\n",
              "      <th>3019</th>\n",
              "      <td>WGS 503</td>\n",
              "      <td>02</td>\n",
              "      <td>Supervised Internship</td>\n",
              "      <td>IDS :: Womenâ€™s, Gender, and Sexuality Studies</td>\n",
              "      <td>Instructor permission required</td>\n",
              "      <td>empty</td>\n",
              "      <td>Independent Study</td>\n",
              "      <td>4_Fall-24</td>\n",
              "    </tr>\n",
              "    <tr>\n",
              "      <th>3020</th>\n",
              "      <td>WGS 503</td>\n",
              "      <td>01</td>\n",
              "      <td>Supervised Internship</td>\n",
              "      <td>IDS :: Womenâ€™s, Gender, and Sexuality Studies</td>\n",
              "      <td>Instructor permission required</td>\n",
              "      <td>empty</td>\n",
              "      <td>Independent Study</td>\n",
              "      <td>1_Spring-23</td>\n",
              "    </tr>\n",
              "    <tr>\n",
              "      <th>3021</th>\n",
              "      <td>WGS 504</td>\n",
              "      <td>01</td>\n",
              "      <td>Directed Independent Study</td>\n",
              "      <td>IDS :: Womenâ€™s, Gender, and Sexuality Studies</td>\n",
              "      <td>empty</td>\n",
              "      <td>empty</td>\n",
              "      <td>Independent Study</td>\n",
              "      <td>0_Fall-22</td>\n",
              "    </tr>\n",
              "  </tbody>\n",
              "</table>\n",
              "<p>3022 rows × 8 columns</p>\n",
              "</div>"
            ],
            "text/plain": [
              "     CourseCode Section                                        CourseTitle  \\\n",
              "0       ACC 111      03                 Principles of Financial Accounting   \n",
              "1       ACC 111      04                 Principles of Financial Accounting   \n",
              "2       ACC 111      01                 Principles of Financial Accounting   \n",
              "3       ACC 111      02                 Principles of Financial Accounting   \n",
              "4       ACC 111      01                 Principles of Financial Accounting   \n",
              "...         ...     ...                                                ...   \n",
              "3017    WGS 240      01                                   Women in Science   \n",
              "3018    WGS 250      01  Introduction to Queer Theory and Sexuality Stu...   \n",
              "3019    WGS 503      02                              Supervised Internship   \n",
              "3020    WGS 503      01                              Supervised Internship   \n",
              "3021    WGS 504      01                         Directed Independent Study   \n",
              "\n",
              "                                             CourseTags  \\\n",
              "0                                                 empty   \n",
              "1                                                 empty   \n",
              "2                                                 empty   \n",
              "3                                                 empty   \n",
              "4                                                 empty   \n",
              "...                                                 ...   \n",
              "3017  IDS :: Medicine, Health and Culture/IDS :: Sci...   \n",
              "3018  GER - CORE :: TA (Critical, Analytical Interpr...   \n",
              "3019    IDS :: Womenâ€™s, Gender, and Sexuality Studies   \n",
              "3020    IDS :: Womenâ€™s, Gender, and Sexuality Studies   \n",
              "3021    IDS :: Womenâ€™s, Gender, and Sexuality Studies   \n",
              "\n",
              "                                    Prerequisites CourseCluster  \\\n",
              "0                                           empty         empty   \n",
              "1                                           empty         empty   \n",
              "2     PRQ  - Department Chair Permission Required         empty   \n",
              "3     PRQ  - Department Chair Permission Required         empty   \n",
              "4          First Year or Sophomore Class Standing         empty   \n",
              "...                                           ...           ...   \n",
              "3017                                        empty         empty   \n",
              "3018             FYW (First Year Writing Seminar)         empty   \n",
              "3019               Instructor permission required         empty   \n",
              "3020               Instructor permission required         empty   \n",
              "3021                                        empty         empty   \n",
              "\n",
              "     InstructionalFormat     Semester  \n",
              "0                Lecture    0_Fall-22  \n",
              "1                Lecture  1_Spring-23  \n",
              "2                Lecture    2_Fall-23  \n",
              "3                Lecture    2_Fall-23  \n",
              "4                Lecture  1_Spring-23  \n",
              "...                  ...          ...  \n",
              "3017             Lecture    4_Fall-24  \n",
              "3018             Lecture  5_Spring-25  \n",
              "3019   Independent Study    4_Fall-24  \n",
              "3020   Independent Study  1_Spring-23  \n",
              "3021   Independent Study    0_Fall-22  \n",
              "\n",
              "[3022 rows x 8 columns]"
            ]
          },
          "execution_count": 4,
          "metadata": {},
          "output_type": "execute_result"
        }
      ],
      "source": [
        "list_tags = all_workday_df[\"CourseTags\"].apply(lambda x: x.split(\"/\"))\n",
        "# list_tags\n",
        "all_workday_df"
      ]
    },
    {
      "cell_type": "code",
      "execution_count": 5,
      "metadata": {},
      "outputs": [
        {
          "data": {
            "text/html": [
              "<div>\n",
              "<style scoped>\n",
              "    .dataframe tbody tr th:only-of-type {\n",
              "        vertical-align: middle;\n",
              "    }\n",
              "\n",
              "    .dataframe tbody tr th {\n",
              "        vertical-align: top;\n",
              "    }\n",
              "\n",
              "    .dataframe thead th {\n",
              "        text-align: right;\n",
              "    }\n",
              "</style>\n",
              "<table border=\"1\" class=\"dataframe\">\n",
              "  <thead>\n",
              "    <tr style=\"text-align: right;\">\n",
              "      <th></th>\n",
              "      <th>CourseTags</th>\n",
              "    </tr>\n",
              "  </thead>\n",
              "  <tbody>\n",
              "    <tr>\n",
              "      <th>0</th>\n",
              "      <td>[empty]</td>\n",
              "    </tr>\n",
              "    <tr>\n",
              "      <th>1</th>\n",
              "      <td>[empty]</td>\n",
              "    </tr>\n",
              "    <tr>\n",
              "      <th>2</th>\n",
              "      <td>[empty]</td>\n",
              "    </tr>\n",
              "    <tr>\n",
              "      <th>3</th>\n",
              "      <td>[empty]</td>\n",
              "    </tr>\n",
              "    <tr>\n",
              "      <th>4</th>\n",
              "      <td>[empty]</td>\n",
              "    </tr>\n",
              "    <tr>\n",
              "      <th>...</th>\n",
              "      <td>...</td>\n",
              "    </tr>\n",
              "    <tr>\n",
              "      <th>3017</th>\n",
              "      <td>[]</td>\n",
              "    </tr>\n",
              "    <tr>\n",
              "      <th>3018</th>\n",
              "      <td>[GER - CORE :: TA (Critical, Analytical Interp...</td>\n",
              "    </tr>\n",
              "    <tr>\n",
              "      <th>3019</th>\n",
              "      <td>[]</td>\n",
              "    </tr>\n",
              "    <tr>\n",
              "      <th>3020</th>\n",
              "      <td>[]</td>\n",
              "    </tr>\n",
              "    <tr>\n",
              "      <th>3021</th>\n",
              "      <td>[]</td>\n",
              "    </tr>\n",
              "  </tbody>\n",
              "</table>\n",
              "<p>3022 rows × 1 columns</p>\n",
              "</div>"
            ],
            "text/plain": [
              "                                             CourseTags\n",
              "0                                               [empty]\n",
              "1                                               [empty]\n",
              "2                                               [empty]\n",
              "3                                               [empty]\n",
              "4                                               [empty]\n",
              "...                                                 ...\n",
              "3017                                                 []\n",
              "3018  [GER - CORE :: TA (Critical, Analytical Interp...\n",
              "3019                                                 []\n",
              "3020                                                 []\n",
              "3021                                                 []\n",
              "\n",
              "[3022 rows x 1 columns]"
            ]
          },
          "execution_count": 5,
          "metadata": {},
          "output_type": "execute_result"
        }
      ],
      "source": [
        "list_tags = all_workday_df[\"CourseTags\"].apply(lambda x: x.split(\"/\"))\n",
        "all_lst_df = all_workday_df.copy()\n",
        "all_lst_df[\"CourseTags\"] = list_tags\n",
        "# new_series = pd.Series(index=range(len(list_tags)))\n",
        "new_tags = all_lst_df[\"CourseTags\"]\n",
        "new_tags\n",
        "fywless_tags = pd.DataFrame()\n",
        "idx = 0\n",
        "for x in new_tags:\n",
        "    # print(x)\n",
        "    # new_lst = [string for string in x if not string.startswith(\"FYW topics\")]\n",
        "    new_lst = [string for string in x if \"FYW topics\" not in string and \"IDS\" not in string]\n",
        "    # print(idx, new_lst)\n",
        "    idx += 1\n",
        "    fywless_tags = pd.concat([fywless_tags, pd.Series([new_lst])], ignore_index=True)\n",
        "# all_lst_df[\"CourseTags\"] = new_series\n",
        "# all_lst_df\n",
        "fywless_tags.columns = [\"CourseTags\"]\n",
        "fywless_tags\n",
        "    # for string in x:\n",
        "    #     if string.startswith(\"FYW topics\"):\n",
        "\n",
        "# for x in all_lst_df[\"CourseTags\"]:\n",
        "#     print(x)\n",
        "#     new_x = []\n",
        "#     for item in all_lst_df.loc[x.index, \"CourseTags\"]:\n",
        "#         print(item)\n",
        "#         if not item.startswith(\"FYW topics\"):\n",
        "#             new_x.append(item)\n",
        "#     all_lst_df.loc[x, \"CourseTags\"] = new_x\n",
        "            # indx -= 1\n",
        "# all_lst_df[all_lst_df[\"CourseCode\"].apply(lambda x: x and x.startswith(\"FYW\"))]\n"
      ]
    },
    {
      "cell_type": "code",
      "execution_count": 6,
      "metadata": {},
      "outputs": [],
      "source": [
        "# fixing the encoding for \"Women's, Gender, and Sexuality Studies\"\n",
        "fywless_tags[\"CourseTags\"] = fywless_tags[\"CourseTags\"].apply(lambda lst: [string.replace(\"Womenâ€™s\", \"Women's\") for string in lst])\n",
        "fywless_tags[\"CourseTags\"];"
      ]
    },
    {
      "cell_type": "code",
      "execution_count": 7,
      "metadata": {},
      "outputs": [],
      "source": [
        "all_lst_df[\"CourseTags\"] = fywless_tags\n",
        "# now, to find all the GER courses\n",
        "ger_series = all_lst_df[\"CourseTags\"].apply(lambda lst: \" / \".join([string for string in lst if \"GER\" in string]))\n",
        "pth_series = all_lst_df[\"CourseTags\"].apply(lambda lst: \" / \".join([string for string in lst if \"Special Course :: Pathways\" in string]))\n",
        "# all_lst_df[ger_courses.empty]"
      ]
    },
    {
      "cell_type": "code",
      "execution_count": 132,
      "metadata": {},
      "outputs": [],
      "source": [
        "ger_series;"
      ]
    },
    {
      "cell_type": "code",
      "execution_count": 133,
      "metadata": {},
      "outputs": [],
      "source": [
        "pth_series;"
      ]
    },
    {
      "cell_type": "code",
      "execution_count": 8,
      "metadata": {},
      "outputs": [
        {
          "data": {
            "text/plain": [
              "0              []\n",
              "1              []\n",
              "2              []\n",
              "3              []\n",
              "4              []\n",
              "          ...    \n",
              "3017           []\n",
              "3018    [TA, IEJ]\n",
              "3019           []\n",
              "3020           []\n",
              "3021           []\n",
              "Name: CourseTags, Length: 3022, dtype: object"
            ]
          },
          "execution_count": 8,
          "metadata": {},
          "output_type": "execute_result"
        }
      ],
      "source": [
        "# NW and NWL considered different categories\n",
        "ger_pattern = r'HB|IEJ|FYW|WR|NE|WC|HA|TA|VP|UQ|FL|MB|MR|NW\\b|NWL'\n",
        "ger_series = ger_series.apply(lambda string: re.findall(ger_pattern, string) if type(string) == str else string)\n",
        "# ger_series[ger_series.apply(lambda x: True if re.findall(r'NW[L\\s\\,]', x) != None else False)]\n",
        "ger_series\n"
      ]
    },
    {
      "cell_type": "code",
      "execution_count": 9,
      "metadata": {},
      "outputs": [
        {
          "data": {
            "text/plain": [
              "0              \n",
              "1              \n",
              "2              \n",
              "3              \n",
              "4              \n",
              "         ...   \n",
              "3017           \n",
              "3018    TA, IEJ\n",
              "3019           \n",
              "3020           \n",
              "3021           \n",
              "Name: CourseTags, Length: 3022, dtype: object"
            ]
          },
          "execution_count": 9,
          "metadata": {},
          "output_type": "execute_result"
        }
      ],
      "source": [
        "# ger_series lsts need to be strings, must be hashable\n",
        "ger_series = ger_series.apply(lambda x: \", \".join(x) if type(x) == list else x)\n",
        "pth_series = pth_series.apply(lambda x: \", \".join(x) if type(x) == list else x)\n",
        "ger_series"
      ]
    },
    {
      "cell_type": "code",
      "execution_count": 10,
      "metadata": {},
      "outputs": [],
      "source": [
        "ger_cond = ger_series.apply(lambda lst: len(lst) > 0)\n",
        "pth_df = all_lst_df[pth_series.apply(lambda lst: len(lst) > 0)][[\"CourseCode\", \"CourseTitle\", \"Semester\"]]\n",
        "\n",
        "# ger_df = all_lst_df[ger_cond]\n",
        "ger_courses = all_lst_df.copy()\n",
        "ger_courses[\"CourseTags\"] = ger_series\n",
        "only_gers = ger_courses[ger_cond][[\"CourseCode\", \"CourseTitle\", \"CourseTags\", \"InstructionalFormat\", \"Semester\"]]"
      ]
    },
    {
      "cell_type": "code",
      "execution_count": 33,
      "metadata": {},
      "outputs": [],
      "source": [
        "only_gers\n",
        "only_gers.to_csv(\"csv-files/gers_raw.csv\")"
      ]
    },
    {
      "cell_type": "code",
      "execution_count": 182,
      "metadata": {},
      "outputs": [],
      "source": [
        "only_gers[only_gers[\"CourseCode\"] == \"CHM 115\"];"
      ]
    },
    {
      "cell_type": "code",
      "execution_count": 11,
      "metadata": {},
      "outputs": [
        {
          "data": {
            "text/plain": [
              "1142"
            ]
          },
          "execution_count": 11,
          "metadata": {},
          "output_type": "execute_result"
        }
      ],
      "source": [
        "len(only_gers[\"CourseCode\"])"
      ]
    },
    {
      "cell_type": "code",
      "execution_count": 12,
      "metadata": {},
      "outputs": [
        {
          "data": {
            "text/html": [
              "<div>\n",
              "<style scoped>\n",
              "    .dataframe tbody tr th:only-of-type {\n",
              "        vertical-align: middle;\n",
              "    }\n",
              "\n",
              "    .dataframe tbody tr th {\n",
              "        vertical-align: top;\n",
              "    }\n",
              "\n",
              "    .dataframe thead th {\n",
              "        text-align: right;\n",
              "    }\n",
              "</style>\n",
              "<table border=\"1\" class=\"dataframe\">\n",
              "  <thead>\n",
              "    <tr style=\"text-align: right;\">\n",
              "      <th></th>\n",
              "      <th>CourseCode</th>\n",
              "      <th>CourseTitle</th>\n",
              "      <th>CourseTags</th>\n",
              "      <th>InstructionalFormat</th>\n",
              "      <th>Semester</th>\n",
              "    </tr>\n",
              "  </thead>\n",
              "  <tbody>\n",
              "    <tr>\n",
              "      <th>733</th>\n",
              "      <td>CSC 121</td>\n",
              "      <td>Intro to Computer Programming</td>\n",
              "      <td>MR</td>\n",
              "      <td>Laboratory</td>\n",
              "      <td>5_Spring-25</td>\n",
              "    </tr>\n",
              "    <tr>\n",
              "      <th>1600</th>\n",
              "      <td>MTH 245</td>\n",
              "      <td>Statistical Methods I with R</td>\n",
              "      <td>MR</td>\n",
              "      <td>Lecture</td>\n",
              "      <td>5_Spring-25</td>\n",
              "    </tr>\n",
              "    <tr>\n",
              "      <th>1588</th>\n",
              "      <td>MTH 150</td>\n",
              "      <td>Analytic Geometry and Calculus I</td>\n",
              "      <td>MR</td>\n",
              "      <td>Lecture</td>\n",
              "      <td>5_Spring-25</td>\n",
              "    </tr>\n",
              "    <tr>\n",
              "      <th>721</th>\n",
              "      <td>CSC 105</td>\n",
              "      <td>Intro to Computer Science (Creativity and Comp...</td>\n",
              "      <td>MR</td>\n",
              "      <td>Laboratory</td>\n",
              "      <td>5_Spring-25</td>\n",
              "    </tr>\n",
              "    <tr>\n",
              "      <th>717</th>\n",
              "      <td>CSC 105</td>\n",
              "      <td>Intro to Computer Science (Creativity and Comp...</td>\n",
              "      <td>MR</td>\n",
              "      <td>Lecture</td>\n",
              "      <td>5_Spring-25</td>\n",
              "    </tr>\n",
              "    <tr>\n",
              "      <th>735</th>\n",
              "      <td>CSC 121</td>\n",
              "      <td>Intro to Computer Programming</td>\n",
              "      <td>MR</td>\n",
              "      <td>Lecture</td>\n",
              "      <td>4_Fall-24</td>\n",
              "    </tr>\n",
              "    <tr>\n",
              "      <th>1568</th>\n",
              "      <td>MTH 110</td>\n",
              "      <td>Finite Mathematics</td>\n",
              "      <td>MR</td>\n",
              "      <td>Lecture</td>\n",
              "      <td>4_Fall-24</td>\n",
              "    </tr>\n",
              "    <tr>\n",
              "      <th>1570</th>\n",
              "      <td>MTH 115</td>\n",
              "      <td>Ideas in Mathematics</td>\n",
              "      <td>MR</td>\n",
              "      <td>Lecture</td>\n",
              "      <td>4_Fall-24</td>\n",
              "    </tr>\n",
              "    <tr>\n",
              "      <th>1585</th>\n",
              "      <td>MTH 145</td>\n",
              "      <td>Calculus for Management  Life and Social Sciences</td>\n",
              "      <td>MR</td>\n",
              "      <td>Lecture</td>\n",
              "      <td>4_Fall-24</td>\n",
              "    </tr>\n",
              "    <tr>\n",
              "      <th>1572</th>\n",
              "      <td>MTH 120</td>\n",
              "      <td>Introduction to Statistics</td>\n",
              "      <td>MR</td>\n",
              "      <td>Lecture</td>\n",
              "      <td>3_Spring-24</td>\n",
              "    </tr>\n",
              "    <tr>\n",
              "      <th>1592</th>\n",
              "      <td>MTH 151</td>\n",
              "      <td>Analytic Geometry and Calculus II</td>\n",
              "      <td>MR</td>\n",
              "      <td>Lecture</td>\n",
              "      <td>3_Spring-24</td>\n",
              "    </tr>\n",
              "    <tr>\n",
              "      <th>1571</th>\n",
              "      <td>MTH 116</td>\n",
              "      <td>Introduction to Cryptology</td>\n",
              "      <td>MR</td>\n",
              "      <td>Lecture</td>\n",
              "      <td>0_Fall-22</td>\n",
              "    </tr>\n",
              "  </tbody>\n",
              "</table>\n",
              "</div>"
            ],
            "text/plain": [
              "     CourseCode                                        CourseTitle CourseTags  \\\n",
              "733     CSC 121                      Intro to Computer Programming         MR   \n",
              "1600    MTH 245                       Statistical Methods I with R         MR   \n",
              "1588    MTH 150                   Analytic Geometry and Calculus I         MR   \n",
              "721     CSC 105  Intro to Computer Science (Creativity and Comp...         MR   \n",
              "717     CSC 105  Intro to Computer Science (Creativity and Comp...         MR   \n",
              "735     CSC 121                      Intro to Computer Programming         MR   \n",
              "1568    MTH 110                                 Finite Mathematics         MR   \n",
              "1570    MTH 115                               Ideas in Mathematics         MR   \n",
              "1585    MTH 145  Calculus for Management  Life and Social Sciences         MR   \n",
              "1572    MTH 120                         Introduction to Statistics         MR   \n",
              "1592    MTH 151                  Analytic Geometry and Calculus II         MR   \n",
              "1571    MTH 116                         Introduction to Cryptology         MR   \n",
              "\n",
              "     InstructionalFormat     Semester  \n",
              "733           Laboratory  5_Spring-25  \n",
              "1600             Lecture  5_Spring-25  \n",
              "1588             Lecture  5_Spring-25  \n",
              "721           Laboratory  5_Spring-25  \n",
              "717              Lecture  5_Spring-25  \n",
              "735              Lecture    4_Fall-24  \n",
              "1568             Lecture    4_Fall-24  \n",
              "1570             Lecture    4_Fall-24  \n",
              "1585             Lecture    4_Fall-24  \n",
              "1572             Lecture  3_Spring-24  \n",
              "1592             Lecture  3_Spring-24  \n",
              "1571             Lecture    0_Fall-22  "
            ]
          },
          "execution_count": 12,
          "metadata": {},
          "output_type": "execute_result"
        }
      ],
      "source": [
        "# let's sort by semester to try and get rid of duplicates (keep most recent Prereqs, courseTags)\n",
        "gers_sorted = only_gers.sort_values(by=\"Semester\", ascending=False).drop_duplicates(subset=[\"CourseCode\", \"InstructionalFormat\"])\n",
        "pth_sorted = pth_df.sort_values(by=\"Semester\", ascending=False).drop_duplicates(subset=[\"CourseCode\",\"CourseTitle\"])\n",
        "# nw + nwl: NW\\b|NWL\n",
        "has_nw = gers_sorted[\"CourseTags\"].apply(lambda x: True if re.findall(r'MR', x) else False)\n",
        "gers_sorted[has_nw]\n",
        "# sorted[(sorted[\"InstructionalFormat\"] == \"Laboratory\") | (sorted[\"InstructionalFormat\"] == \"Combination\")]"
      ]
    },
    {
      "cell_type": "code",
      "execution_count": 13,
      "metadata": {},
      "outputs": [
        {
          "data": {
            "text/plain": [
              "[['PTH 101', 'Pathways 101'],\n",
              " ['PTH 102', 'Pathways 102'],\n",
              " ['PTH 103', 'Pathways 103'],\n",
              " ['PTH 201', 'Pathways 201'],\n",
              " ['PTH 202', 'Pathways 202'],\n",
              " ['PTH 203', 'Pathways 203']]"
            ]
          },
          "execution_count": 13,
          "metadata": {},
          "output_type": "execute_result"
        }
      ],
      "source": [
        "pth_sorted = pth_sorted.drop(columns=[\"Semester\"]) if \"Semester\" in pth_sorted.columns else pth_sorted\n",
        "pth_sorted = pth_sorted.sort_values(by=\"CourseCode\")\n",
        "pth_courses = pth_sorted.to_dict(orient=\"tight\")[\"data\"]\n",
        "pth_courses"
      ]
    },
    {
      "cell_type": "code",
      "execution_count": 14,
      "metadata": {},
      "outputs": [],
      "source": [
        "ger_courses_dict = {\"fyw\" : [],\n",
        "                    \"pathways\" : pth_courses,\n",
        "                    \"wr\" : [],                    \n",
        "                    \"ne\" : [],\n",
        "                    \"iej\" : [],\n",
        "                    \"wc\" : [],\n",
        "                    \"ha\" : [],\n",
        "                    \"ta\" : [],\n",
        "                    \"vp\" : [],\n",
        "                    \"uq\" : [],\n",
        "                    \"fl\" : [],\n",
        "                    \"mb\" : [],\n",
        "                    \"mr\" : [],\n",
        "                    \"hb\" : [],\n",
        "                    \"nw\" : [],\n",
        "                    \"nwl\" : []\n",
        "                    }\n",
        "for ger in list(ger_courses_dict.keys()):\n",
        "    if ger != \"pathways\":\n",
        "        pattern = r'{}'.format(ger.upper())\n",
        "        if ger == \"nw\":\n",
        "            pattern = r'NW\\b'\n",
        "        # print(pattern)\n",
        "        courses = gers_sorted[gers_sorted[\"CourseTags\"].apply(lambda x: True if re.findall(pattern, x) else False)][[\"CourseCode\", \"CourseTitle\"]]\\\n",
        "                                .drop_duplicates()\\\n",
        "                                    .sort_values(by=\"CourseCode\")\\\n",
        "                                        .to_dict(orient=\"tight\")[\"data\"]\n",
        "        ger_courses_dict[ger] = sorted(list(courses))"
      ]
    },
    {
      "cell_type": "code",
      "execution_count": null,
      "metadata": {},
      "outputs": [],
      "source": [
        "# pth_sorted = pth_sorted.drop(columns=[\"Semester\"]) if \"Semester\" in pth_sorted.columns else pth_sorted\n",
        "# pth_sorted = pth_sorted.sort_values(by=\"CourseCode\")\n",
        "# courses = pth_sorted.to_dict(orient=\"tight\")[\"data\"]\n",
        "# courses"
      ]
    },
    {
      "cell_type": "code",
      "execution_count": 39,
      "metadata": {},
      "outputs": [],
      "source": [
        "final_json = {}\n",
        "for ger_cat in ger_courses_dict:\n",
        "    ger_courses = ger_courses_dict[ger_cat]\n",
        "    final_json[ger_cat] = [' - '.join(course) for course in ger_courses]"
      ]
    },
    {
      "cell_type": "code",
      "execution_count": 42,
      "metadata": {},
      "outputs": [],
      "source": [
        "import json \n",
        "content = json.dumps(final_json)\n",
        "f = open('gers.json', 'w')\n",
        "f.write(content)\n",
        "f.close()"
      ]
    },
    {
      "cell_type": "code",
      "execution_count": null,
      "metadata": {},
      "outputs": [
        {
          "name": "stdout",
          "output_type": "stream",
          "text": [
            "77\n",
            "['FYW 1110', 'Global Water Issues']\n",
            "['FYW 1111', 'Haunted Mansions']\n",
            "['FYW 1112', 'History of Liberal Arts']\n",
            "['FYW 1116', 'Language  Argument and Culture']\n",
            "['FYW 1126', 'The Ethics of Sex']\n",
            "['FYW 1127', 'To Walk the Land']\n",
            "['FYW 1128', 'Turing: Thinking Machines  Codes and Other Enigmas']\n",
            "['FYW 1133', 'Can We Make Sense of the 60s?']\n",
            "['FYW 1137', 'Freedom or Oppression: Human Rights in Asia']\n",
            "['FYW 1140', 'History of Detective Fiction']\n",
            "['FYW 1141', 'Homer and History']\n",
            "['FYW 1148', 'Southern Women: Black & White']\n",
            "['FYW 1151', 'American Dream Ideal and Reality']\n",
            "['FYW 1154', 'The Wealth of Nations: the Life  Ideas  and influence of Adam Smith']\n",
            "['FYW 1156', 'Who Speaks Bad English? Language and Ideology']\n",
            "['FYW 1167', 'American Disaster Literature']\n",
            "['FYW 1168', 'The First World War']\n",
            "['FYW 1172', 'Dueling Perspectives: The United States In Latin America']\n",
            "['FYW 1178', 'Academic Autobiography']\n",
            "['FYW 1179', 'Our Technological Heritage']\n",
            "['FYW 1189', 'Social History of Technology']\n",
            "['FYW 1191', 'Neil Gaiman and the Mythology of Life and Death']\n",
            "['FYW 1193', \"Reading Flannery O'Connor\"]\n",
            "['FYW 1195', 'Psychic Disorder and the Social Order']\n",
            "['FYW 1202', 'Medieval Forests in Literature and Law']\n",
            "['FYW 1206', 'Spain in the U.S. Imagination']\n",
            "['FYW 1211', 'Chocolate']\n",
            "['FYW 1221', 'God and Justice']\n",
            "['FYW 1227', 'Quest for Meanings and Values through Theater']\n",
            "['FYW 1232', 'Inferno: Tales of Hell and Justice']\n",
            "['FYW 1234', 'Bird by Bird: Interactions in Nature and Society']\n",
            "['FYW 1239', 'Pseudoscience and Skepticism']\n",
            "['FYW 1242', 'World of the Founding Fathers']\n",
            "['FYW 1244', 'Learning Politics Through Battlestar Galactica']\n",
            "['FYW 1245', 'The Parables of Jesus']\n",
            "['FYW 1246', 'Japanese Religion in Everyday Life']\n",
            "['FYW 1254', 'Winning the White House']\n",
            "['FYW 1259', 'Reconsidering James Baldwin in an Era of #BlackLivesMatter']\n",
            "['FYW 1260', 'Tudor-Stuart Texts']\n",
            "['FYW 1263', 'Representations of Prison in Print and Film']\n",
            "['FYW 1264', 'Can Humans Fly? The Scientific History and Future of Human Flight']\n",
            "['FYW 1266', 'Inside the White Cube: Exhibition Practice and History']\n",
            "['FYW 1267', 'Fairy Tales and Childhood']\n",
            "['FYW 1268', 'France. Friend or Frenemy?']\n",
            "['FYW 1271', 'Engage the News']\n",
            "['FYW 1272', 'Biodiversity: The Other Earthlings']\n",
            "['FYW 1274', 'Management Literacy']\n",
            "['FYW 1280', 'A Funny Business: Humor and Politics']\n",
            "['FYW 1282', 'This is Your Brain on Drugs']\n",
            "['FYW 1286', 'Spanish in the United States']\n",
            "['FYW 1289', 'Conflict and Its Transformation']\n",
            "['FYW 1292', 'Chemistry  Discovery  and the Nobel Prize']\n",
            "['FYW 1294', 'America through Baseball']\n",
            "['FYW 1299', 'Samurai: Real and Imagined History']\n",
            "['FYW 1300', 'Politics and the Good Life']\n",
            "['FYW 1303', 'Ethical, Social, and Political Issues in Star Wars']\n",
            "['FYW 1306', 'Food and Identity in Latin America']\n",
            "['FYW 1309', 'Artificial Intelligence in Media and Pop Culture']\n",
            "['FYW 1310', 'Sustainable Furman']\n",
            "['FYW 1311', 'Game On! Tabletop Play and Contemporary Culture']\n",
            "['FYW 1312', 'Technofeminism']\n",
            "['FYW 1313', 'Four by Sondheim']\n",
            "['FYW 1315', 'Social Media and Body Image']\n",
            "['FYW 1316', 'Evolutionary Anthropology: Facts, Fantasy, Frauds']\n",
            "['FYW 1317', 'Muslim Feminisms']\n",
            "['FYW 1318', 'Grassroots Movements']\n",
            "['FYW 1319', 'Music and the Mysteries of the Universe']\n",
            "['FYW 1320', 'Leaders, Leadership, and Writing']\n",
            "['FYW 1321', 'African American Agency in the Civil War era']\n",
            "['FYW 1322', 'From Frankenstein to WandaVision']\n",
            "['FYW 1323', 'What is a Cult?']\n",
            "['FYW 1324', 'Ghosts of Greenville']\n",
            "['FYW 1325', 'Hispanic Masculinities']\n",
            "['FYW 1326', 'Cultural Narratives in Reality TV']\n",
            "['FYW 1327', 'Health Headlines']\n",
            "['FYW 1328', 'Men & Masculinities']\n",
            "['FYW 1330', 'The Impact of the College Environment on Health']\n"
          ]
        }
      ],
      "source": [
        "# Use this to test dict\n",
        "# GERS = 'FYW', 'WR', 'NE', 'IEJ', 'WC', 'HA', 'TA', 'VP', 'UQ', 'FL', 'MB', 'MR', 'HB', 'NW', 'NWL'\n",
        "given_ger = input(\"Please enter a GER credit: \").lower()\n",
        "attempts = 0\n",
        "while given_ger not in ger_courses_dict.keys() and attempts < 3:\n",
        "    given_ger = input(\"Please enter a valid GER credit: \").lower()\n",
        "    attempts += 1\n",
        "if given_ger in ger_courses_dict.keys():\n",
        "    print(len(ger_courses_dict[given_ger]))\n",
        "    for course in ger_courses_dict[given_ger]:\n",
        "        print(course)\n",
        "else:\n",
        "    print(\"ERROR: {} not in dict\".format(given_ger))"
      ]
    },
    {
      "cell_type": "markdown",
      "metadata": {},
      "source": [
        "# Step 9: Create appropriate .csv files for cleaned dfs"
      ]
    },
    {
      "cell_type": "code",
      "execution_count": 30,
      "metadata": {},
      "outputs": [
        {
          "data": {
            "text/plain": [
              "[['BIO 101', 'Principles of Biology'],\n",
              " ['BIO 102', 'Biology and the Environment'],\n",
              " ['BIO 111', 'Foundations of Biology'],\n",
              " ['BIO 230', 'Nature of Diversity'],\n",
              " ['BIO 423', 'Marine Biology'],\n",
              " ['CHM 110', 'Foundations of Chemistry'],\n",
              " ['CHM 115', 'Kinetics Thermodynamics and the Environment'],\n",
              " ['CHM 118', 'Principles of Chemistry: Theory and Applications'],\n",
              " ['CHM 120', 'Organic Chemistry I'],\n",
              " ['EES 112', 'Environmental Science'],\n",
              " ['EES 113', 'Natural Hazards and Natural Disasters'],\n",
              " ['EES 115', 'Earth Systems'],\n",
              " ['HSC 311', 'Physiology of Exercise'],\n",
              " ['HSC 323', 'Kinesiology'],\n",
              " ['PHY 105', 'Descriptive Astronomy'],\n",
              " ['PHY 111', 'General Physics I'],\n",
              " ['PHY 112', 'General Physics II'],\n",
              " ['PSY 320', 'Introduction to Biopsychology'],\n",
              " ['PSY 328', 'Sensation and Perception'],\n",
              " ['SUS 120', 'Principles of Sustainability Science']]"
            ]
          },
          "execution_count": 30,
          "metadata": {},
          "output_type": "execute_result"
        }
      ],
      "source": [
        "ger_courses_dict[\"nwl\"]"
      ]
    },
    {
      "cell_type": "code",
      "execution_count": 26,
      "metadata": {},
      "outputs": [
        {
          "name": "stdout",
          "output_type": "stream",
          "text": [
            "Successful!\n"
          ]
        }
      ],
      "source": [
        "ger_file_path = \"csv-files/gers.csv\"\n",
        "\n",
        "with open(ger_file_path, mode='w', newline='') as f:\n",
        "    try:\n",
        "        writer = csv.writer(f)\n",
        "        writer.writerow(ger_courses_dict.keys())\n",
        "        writer.writerow(ger_courses_dict.values())\n",
        "    except Exception as e:\n",
        "        print(e)\n",
        "print(\"Successful!\")"
      ]
    }
  ],
  "metadata": {
    "colab": {
      "provenance": []
    },
    "kernelspec": {
      "display_name": "Python 3",
      "name": "python3"
    },
    "language_info": {
      "codemirror_mode": {
        "name": "ipython",
        "version": 3
      },
      "file_extension": ".py",
      "mimetype": "text/x-python",
      "name": "python",
      "nbconvert_exporter": "python",
      "pygments_lexer": "ipython3",
      "version": "3.13.5"
    }
  },
  "nbformat": 4,
  "nbformat_minor": 0
}
